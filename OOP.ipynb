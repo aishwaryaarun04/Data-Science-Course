{
 "cells": [
  {
   "cell_type": "code",
   "execution_count": null,
   "id": "07d87b51-b220-431e-ba86-8d3e8cff95a0",
   "metadata": {},
   "outputs": [],
   "source": [
    "class Phone:\n",
    "    def make_call(self):\n",
    "        print(\"making call\")\n",
    "    def play_game(self):\n",
    "        print(\"playing games\")\n",
    "p1= Phone()\n",
    "p1.make_call()\n",
    "p1.play_game()"
   ]
  },
  {
   "cell_type": "code",
   "execution_count": 4,
   "id": "5c3d00a7-7506-4939-aa97-bed172f13f12",
   "metadata": {},
   "outputs": [
    {
     "data": {
      "text/plain": [
       "'Blue'"
      ]
     },
     "execution_count": 4,
     "metadata": {},
     "output_type": "execute_result"
    }
   ],
   "source": [
    "#adding parameters\n",
    "class Phone:\n",
    "    def set_colour(self,colour):\n",
    "        self.colour=colour\n",
    "    def set_cost(self, cost):\n",
    "        self.cost=cost\n",
    "    def show_colour(self):\n",
    "        return self.colour\n",
    "    def show_cost(self):\n",
    "        return self.cost\n",
    "p2= Phone()\n",
    "p2.set_colour(\"Blue\")\n",
    "p2.set_cost(500)\n",
    "p2.show_colour()\n",
    "\n",
    "    "
   ]
  },
  {
   "cell_type": "code",
   "execution_count": 21,
   "id": "d5ab383e-9a43-4f9a-aa31-107544f36025",
   "metadata": {},
   "outputs": [
    {
     "name": "stdout",
     "output_type": "stream",
     "text": [
      "Name of the employee is  Sam\n",
      "Age the employee is  45\n",
      "Salary employee is  35000\n"
     ]
    }
   ],
   "source": [
    "#Class with constructor\n",
    "class Employee:\n",
    "    def __init__(self,name,age,salary):\n",
    "        self.name=name\n",
    "        self.age=age\n",
    "        self.salary=salary\n",
    "    def employee_details(self):\n",
    "        print(\"Name of the employee is \",self.name)\n",
    "        print(\"Age the employee is \",self.age)\n",
    "        print(\"Salary employee is \",self.salary)\n",
    "e1=Employee(\"Sam\",45,35000)\n",
    "e1.employee_details()\n"
   ]
  },
  {
   "cell_type": "code",
   "execution_count": 22,
   "id": "22ba4e07-9458-4dc7-bd1e-9a03cfaa0289",
   "metadata": {},
   "outputs": [
    {
     "name": "stdout",
     "output_type": "stream",
     "text": [
      "The mileage is 300\n",
      "The cost is 85000\n"
     ]
    }
   ],
   "source": [
    "#inheritance\n",
    "class Vehicle:\n",
    "    def __init__(self, mileage, cost):\n",
    "        self.mileage=mileage\n",
    "        self.cost=cost\n",
    "    def show_car_details(self):\n",
    "        print(\"The mileage is\", self.mileage)\n",
    "        print(\"The cost is\", self.cost)\n",
    "v1=Vehicle(300,85000)\n",
    "v1.show_car_details()"
   ]
  },
  {
   "cell_type": "code",
   "execution_count": 24,
   "id": "f17c7d84-d6d3-43d9-a2b3-7972b237bc94",
   "metadata": {},
   "outputs": [
    {
     "name": "stdout",
     "output_type": "stream",
     "text": [
      "This is a car\n",
      "The mileage is 200\n",
      "The cost is 75000\n"
     ]
    }
   ],
   "source": [
    "class car(Vehicle):\n",
    "    def show_car(self):\n",
    "        print(\"This is a car\")\n",
    "c1=car(200,75000)\n",
    "c1.show_car()\n",
    "c1.show_car_details()"
   ]
  },
  {
   "cell_type": "code",
   "execution_count": 25,
   "id": "a2b735b7-de04-4d48-b20f-64ea5b879e51",
   "metadata": {},
   "outputs": [
    {
     "name": "stdout",
     "output_type": "stream",
     "text": [
      "The total tyres are 4\n",
      "The horsepowers is 500\n",
      "The mileage is 450\n",
      "The cost is 95000\n"
     ]
    }
   ],
   "source": [
    "#invoke parent class\n",
    "class Car(Vehicle):\n",
    "    def __init__(self,mileage,cost,tyres,hp):\n",
    "        super().__init__(mileage, cost)\n",
    "        self.tyres=tyres\n",
    "        self.hp=hp\n",
    "    def show_more_car_details(self):\n",
    "        print(\"The total tyres are\", self.tyres)\n",
    "        print(\"The horsepowers is\", self.hp)\n",
    "c2= Car(450,95000,4,500)\n",
    "c2.show_more_car_details()\n",
    "c2.show_car_details()"
   ]
  },
  {
   "cell_type": "code",
   "execution_count": 31,
   "id": "3ee3b821-085c-493a-bbdc-7acd0372dbfb",
   "metadata": {},
   "outputs": [
    {
     "name": "stdout",
     "output_type": "stream",
     "text": [
      "This is from parent class1 Parent 1\n",
      "This is from parent class2 Parent 2\n",
      "This is from child class child\n"
     ]
    }
   ],
   "source": [
    "#multiple class inheritance\n",
    "class Parent1:\n",
    "    def assign_string1(self,str1):\n",
    "        self.str1=str1\n",
    "    def show_str1(self):\n",
    "        print(\"This is from parent class1\", self.str1)\n",
    "class Parent2:\n",
    "    def assign_string2(self,str2):\n",
    "        self.str2=str2\n",
    "    def show_str2(self):\n",
    "        print(\"This is from parent class2\", self.str2)\n",
    "class Child(Parent1,Parent2):\n",
    "    def assign_string3(self,str3):\n",
    "        self.str3=str3\n",
    "    def show_str3(self):\n",
    "        print(\"This is from child class\", self.str3)\n",
    "child_object=Child()\n",
    "child_object.assign_string1(\"Parent 1\")\n",
    "child_object.assign_string2(\"Parent 2\")\n",
    "child_object.assign_string3(\"child\")\n",
    "child_object.show_str1()\n",
    "child_object.show_str2()\n",
    "child_object.show_str3()"
   ]
  },
  {
   "cell_type": "code",
   "execution_count": 32,
   "id": "92fa8ec5-0724-4e25-94eb-493f66ad06da",
   "metadata": {},
   "outputs": [
    {
     "name": "stdout",
     "output_type": "stream",
     "text": [
      "This is from parent class Tom\n",
      "This is from child class 25\n",
      "This is from grandchild class Male\n"
     ]
    }
   ],
   "source": [
    "#multilevel inheritence- parent-child-grandchild\n",
    "class Parent:\n",
    "    def assign_name(self,name):\n",
    "        self.name=name\n",
    "    def show_name(self):\n",
    "        print(\"This is from parent class\", self.name)\n",
    "class Child(Parent):\n",
    "    def assign_age(self,age):\n",
    "        self.age=age\n",
    "    def show_age(self):\n",
    "        print(\"This is from child class\", self.age)\n",
    "class Grandchild(Child):\n",
    "    def assign_gender(self,gender):\n",
    "        self.gender=gender\n",
    "    def show_gender(self):\n",
    "        print(\"This is from grandchild class\", self.gender)\n",
    "g1=Grandchild()\n",
    "g1.assign_name(\"Tom\")\n",
    "g1.assign_age(25)\n",
    "g1.assign_gender(\"Male\")\n",
    "g1.show_name()\n",
    "g1.show_age()\n",
    "g1.show_gender()\n",
    "\n",
    "    "
   ]
  },
  {
   "cell_type": "code",
   "execution_count": 35,
   "id": "60746da7-eb03-49aa-97b4-7e3ec48a1b1e",
   "metadata": {},
   "outputs": [
    {
     "name": "stdout",
     "output_type": "stream",
     "text": [
      "\n",
      "\n",
      "* \n",
      "\n",
      "* * \n",
      "\n",
      "* * * \n",
      "\n",
      "* * * * \n",
      "\n",
      "* * * * * \n",
      "\n"
     ]
    }
   ],
   "source": [
    "for num in range(6):\n",
    "    for i in range(num):\n",
    "        print (\"*\",end=\" \") #print number\n",
    "    # new line after each row to display pattern correctly\n",
    "    print(\"\\n\")"
   ]
  },
  {
   "cell_type": "code",
   "execution_count": null,
   "id": "67f20c16-ea7f-4aa0-bc7f-4f8332ede2d8",
   "metadata": {},
   "outputs": [],
   "source": []
  }
 ],
 "metadata": {
  "kernelspec": {
   "display_name": "Python 3 (ipykernel)",
   "language": "python",
   "name": "python3"
  },
  "language_info": {
   "codemirror_mode": {
    "name": "ipython",
    "version": 3
   },
   "file_extension": ".py",
   "mimetype": "text/x-python",
   "name": "python",
   "nbconvert_exporter": "python",
   "pygments_lexer": "ipython3",
   "version": "3.10.8"
  }
 },
 "nbformat": 4,
 "nbformat_minor": 5
}
