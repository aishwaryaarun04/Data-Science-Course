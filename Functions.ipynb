{
 "cells": [
  {
   "cell_type": "code",
   "execution_count": 1,
   "id": "cf4bd362-5a77-46a8-943b-dd987a5b51cf",
   "metadata": {},
   "outputs": [],
   "source": [
    "#function to filter number from a list"
   ]
  },
  {
   "cell_type": "code",
   "execution_count": 2,
   "id": "41298cc6-f0d2-4c62-afea-06f277e72322",
   "metadata": {},
   "outputs": [],
   "source": [
    "def test(l):\n",
    "    final_list=[]\n",
    "    for i in l:\n",
    "        if type(i)==int or type(i)==float:\n",
    "            final_list.append(i)\n",
    "    return final_list"
   ]
  },
  {
   "cell_type": "code",
   "execution_count": 7,
   "id": "4a6d152d-aade-4f5a-9f77-676a472a3ae4",
   "metadata": {},
   "outputs": [
    {
     "data": {
      "text/plain": [
       "[1, 2, 3, 4, 5, 6, 1.2, 1.3, 1.4]"
      ]
     },
     "execution_count": 7,
     "metadata": {},
     "output_type": "execute_result"
    }
   ],
   "source": [
    "test([1,2,3,4,5,6,\"a\",\"b\",\"c\",1.2,1.3,1.4,[6,7,8,9,10]])"
   ]
  },
  {
   "cell_type": "code",
   "execution_count": 5,
   "id": "b80854da-d404-4213-8aa7-d8f01e7aedf0",
   "metadata": {},
   "outputs": [],
   "source": [
    "#to include numbers inside the sublist also while filtering in the above example"
   ]
  },
  {
   "cell_type": "code",
   "execution_count": 9,
   "id": "a780577f-a497-4f7c-8cef-355b230ec712",
   "metadata": {},
   "outputs": [],
   "source": [
    "def test(l):\n",
    "    final_list=[]\n",
    "    for i in l:\n",
    "        if type(i)==int or type(i)==float:\n",
    "            final_list.append(i)\n",
    "        elif type(i)==list:\n",
    "            for j in i:\n",
    "                if type(j)==int or type(j)==float:\n",
    "                    final_list.append(j) \n",
    "    return final_list"
   ]
  },
  {
   "cell_type": "code",
   "execution_count": 10,
   "id": "a772e404-20db-4df6-8cb5-858068ec2369",
   "metadata": {},
   "outputs": [
    {
     "data": {
      "text/plain": [
       "[1, 2, 3, 4, 5, 6, 1.2, 1.3, 1.4, 6, 7, 8, 9, 10]"
      ]
     },
     "execution_count": 10,
     "metadata": {},
     "output_type": "execute_result"
    }
   ],
   "source": [
    "test([1,2,3,4,5,6,\"a\",\"b\",\"c\",1.2,1.3,1.4,[6,7,8,9,10]])"
   ]
  },
  {
   "cell_type": "code",
   "execution_count": 11,
   "id": "e3466914-e20a-4436-b803-453f64707a0f",
   "metadata": {},
   "outputs": [],
   "source": [
    "#arguments"
   ]
  },
  {
   "cell_type": "code",
   "execution_count": 12,
   "id": "779b1180-9851-478e-9852-4ecd8e19879d",
   "metadata": {},
   "outputs": [],
   "source": [
    "def test(*test_data, a):\n",
    "    return test_data, a"
   ]
  },
  {
   "cell_type": "code",
   "execution_count": 14,
   "id": "95d59a35-8fcd-4fef-8248-7fe58b4400b3",
   "metadata": {},
   "outputs": [
    {
     "data": {
      "text/plain": [
       "((1, 3, 3, 4, 5), 'help')"
      ]
     },
     "execution_count": 14,
     "metadata": {},
     "output_type": "execute_result"
    }
   ],
   "source": [
    "test(1,3,3,4,5,a=\"help\")"
   ]
  },
  {
   "cell_type": "code",
   "execution_count": 15,
   "id": "878ec321-6f10-4ba6-9fbe-6cfe99583a47",
   "metadata": {},
   "outputs": [],
   "source": [
    "#generator functions"
   ]
  },
  {
   "cell_type": "code",
   "execution_count": 16,
   "id": "a474c3cc-c179-49bf-aeb4-794ffe0b04c7",
   "metadata": {},
   "outputs": [],
   "source": [
    "#fibonacci"
   ]
  },
  {
   "cell_type": "code",
   "execution_count": 21,
   "id": "56bac332-1fe7-4296-b0d4-fb0bfdcc8a0d",
   "metadata": {},
   "outputs": [],
   "source": [
    "def fib_series(n):\n",
    "    a,b=0,1\n",
    "    for i in range(n):\n",
    "        yield a\n",
    "        a,b=b,a+b\n",
    "        \n",
    "        "
   ]
  },
  {
   "cell_type": "code",
   "execution_count": 24,
   "id": "c1d176de-068a-4412-9d69-fd0f69c5584c",
   "metadata": {},
   "outputs": [
    {
     "name": "stdout",
     "output_type": "stream",
     "text": [
      "0,1,1,2,3,5,8,13,21,34,"
     ]
    }
   ],
   "source": [
    "for i in fib_series(10):\n",
    "    print(i, end=\",\")\n",
    "    "
   ]
  },
  {
   "cell_type": "code",
   "execution_count": null,
   "id": "537abfd6-9a74-4657-bf8a-b764ac5073de",
   "metadata": {},
   "outputs": [],
   "source": []
  }
 ],
 "metadata": {
  "kernelspec": {
   "display_name": "Python 3 (ipykernel)",
   "language": "python",
   "name": "python3"
  },
  "language_info": {
   "codemirror_mode": {
    "name": "ipython",
    "version": 3
   },
   "file_extension": ".py",
   "mimetype": "text/x-python",
   "name": "python",
   "nbconvert_exporter": "python",
   "pygments_lexer": "ipython3",
   "version": "3.10.8"
  }
 },
 "nbformat": 4,
 "nbformat_minor": 5
}
