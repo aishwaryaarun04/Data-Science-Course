{
 "cells": [
  {
   "cell_type": "code",
   "execution_count": 6,
   "id": "5bed952e-04b4-44f0-a4f9-6c2119492a0e",
   "metadata": {},
   "outputs": [
    {
     "name": "stdout",
     "output_type": "stream",
     "text": [
      "Hello\n"
     ]
    },
    {
     "data": {
      "text/plain": [
       "'Hello'"
      ]
     },
     "execution_count": 6,
     "metadata": {},
     "output_type": "execute_result"
    }
   ],
   "source": [
    "a=\"Hello\"\n",
    "b=\"\".join(a)\n",
    "print(b)\n",
    "b"
   ]
  },
  {
   "cell_type": "code",
   "execution_count": 7,
   "id": "0c604d5d-7dde-40d4-8e44-d5e7d6c6f557",
   "metadata": {},
   "outputs": [
    {
     "data": {
      "text/plain": [
       "['H', 'e', 'l', 'l', 'o']"
      ]
     },
     "execution_count": 7,
     "metadata": {},
     "output_type": "execute_result"
    }
   ],
   "source": [
    "list(b)"
   ]
  },
  {
   "cell_type": "code",
   "execution_count": 9,
   "id": "5d38e5df-eb74-4620-9b24-95db227d4e08",
   "metadata": {},
   "outputs": [
    {
     "data": {
      "text/plain": [
       "[\"['H'\", \" 'e'\", \" 'l'\", \" 'l'\", \" 'o']\"]"
      ]
     },
     "execution_count": 9,
     "metadata": {},
     "output_type": "execute_result"
    }
   ],
   "source": [
    "str(list(b)).split(\",\")"
   ]
  },
  {
   "cell_type": "code",
   "execution_count": 11,
   "id": "5d22323a-c821-4877-86b5-6a94da160de4",
   "metadata": {},
   "outputs": [
    {
     "name": "stdout",
     "output_type": "stream",
     "text": [
      "olleH"
     ]
    }
   ],
   "source": [
    "for i in reversed(a):\n",
    "    print(i, end=\"\")\n",
    "    "
   ]
  },
  {
   "cell_type": "code",
   "execution_count": 12,
   "id": "5fc531a5-f72d-42d9-a54c-9de968788b16",
   "metadata": {},
   "outputs": [],
   "source": [
    "c=\" Hello \""
   ]
  },
  {
   "cell_type": "code",
   "execution_count": 13,
   "id": "f789f915-8191-43c3-b4ce-fd61f596b2bc",
   "metadata": {},
   "outputs": [
    {
     "data": {
      "text/plain": [
       "'Hello'"
      ]
     },
     "execution_count": 13,
     "metadata": {},
     "output_type": "execute_result"
    }
   ],
   "source": [
    "c.strip()"
   ]
  },
  {
   "cell_type": "code",
   "execution_count": 19,
   "id": "878c7a31-bfbd-4e2b-8780-a4a9eaef88e2",
   "metadata": {},
   "outputs": [
    {
     "data": {
      "text/plain": [
       "'Heooo'"
      ]
     },
     "execution_count": 19,
     "metadata": {},
     "output_type": "execute_result"
    }
   ],
   "source": [
    "c.replace(\"l\",\"o\").strip()"
   ]
  },
  {
   "cell_type": "code",
   "execution_count": 5,
   "id": "0b669922-61e4-48de-b6db-9ab5ebc18155",
   "metadata": {},
   "outputs": [
    {
     "name": "stdin",
     "output_type": "stream",
     "text": [
      "Enter a number 2\n"
     ]
    },
    {
     "name": "stdout",
     "output_type": "stream",
     "text": [
      "Number is even\n"
     ]
    }
   ],
   "source": [
    "#check even odd\n",
    "num1=int(input(\"Enter a number\"))\n",
    "if num1%2==0 and num1!=0:\n",
    "    print(\"Number is even\")\n",
    "elif num1%2!=0:\n",
    "    print(\"Number is odd\")\n",
    "else:\n",
    "    print(\"Try again\")"
   ]
  },
  {
   "cell_type": "code",
   "execution_count": 6,
   "id": "a2aeaf9c-f6dd-4fa9-87d9-7f15a2e5e9c6",
   "metadata": {},
   "outputs": [
    {
     "name": "stdin",
     "output_type": "stream",
     "text": [
      "Enter a number -9\n"
     ]
    },
    {
     "name": "stdout",
     "output_type": "stream",
     "text": [
      "Number is negative\n"
     ]
    }
   ],
   "source": [
    "#check positive negative\n",
    "num1=float(input(\"Enter a number\"))\n",
    "if num1>0:\n",
    "    print(\"Number is positive\")\n",
    "elif num1<0:\n",
    "    print(\"Number is negative\")\n",
    "else:\n",
    "    print(\"Try again\")"
   ]
  },
  {
   "cell_type": "code",
   "execution_count": 14,
   "id": "eb414e3d-307d-4192-b1b5-c04eac3121ad",
   "metadata": {},
   "outputs": [
    {
     "name": "stdin",
     "output_type": "stream",
     "text": [
      "Enter a number 3\n"
     ]
    },
    {
     "name": "stdout",
     "output_type": "stream",
     "text": [
      "Factorial of 3 is 6\n"
     ]
    }
   ],
   "source": [
    "#factorial\n",
    "num1=int(input(\"Enter a number\"))\n",
    "factorial=1\n",
    "if num1<0:\n",
    "    print(\"try again\")\n",
    "elif num1==0:\n",
    "    print(\"Factorial of {} is 1\".format(num1))\n",
    "else:\n",
    "    for i in range(1, num1+1):\n",
    "        factorial=factorial*i\n",
    "    print(\"Factorial of\", num1, \"is\", factorial)"
   ]
  },
  {
   "cell_type": "code",
   "execution_count": 19,
   "id": "8c758cf7-7797-4911-86a6-154cd938cc97",
   "metadata": {},
   "outputs": [
    {
     "name": "stdin",
     "output_type": "stream",
     "text": [
      "Enter a number 456\n"
     ]
    },
    {
     "name": "stdout",
     "output_type": "stream",
     "text": [
      "654\n"
     ]
    }
   ],
   "source": [
    "#reverse number\n",
    "num1=int(input(\"Enter a number\"))\n",
    "rev=0\n",
    "while num1>0:\n",
    "    digit=num1%10\n",
    "    rev=rev*10+digit\n",
    "    num1=num1//10\n",
    "print(rev)"
   ]
  },
  {
   "cell_type": "code",
   "execution_count": 20,
   "id": "606b77b9-c638-4263-a02d-7d6827165377",
   "metadata": {},
   "outputs": [
    {
     "data": {
      "text/plain": [
       "0.8"
      ]
     },
     "execution_count": 20,
     "metadata": {},
     "output_type": "execute_result"
    }
   ],
   "source": [
    "4/5"
   ]
  },
  {
   "cell_type": "code",
   "execution_count": 21,
   "id": "7f44343b-4076-403c-9380-e1f50cd96427",
   "metadata": {},
   "outputs": [
    {
     "data": {
      "text/plain": [
       "0"
      ]
     },
     "execution_count": 21,
     "metadata": {},
     "output_type": "execute_result"
    }
   ],
   "source": [
    "4//5"
   ]
  },
  {
   "cell_type": "code",
   "execution_count": 22,
   "id": "e4cc273d-1ef7-455f-af84-cbb7eb0cafad",
   "metadata": {},
   "outputs": [
    {
     "data": {
      "text/plain": [
       "0.5"
      ]
     },
     "execution_count": 22,
     "metadata": {},
     "output_type": "execute_result"
    }
   ],
   "source": [
    "5/10"
   ]
  },
  {
   "cell_type": "code",
   "execution_count": 23,
   "id": "77960900-ba24-49a2-b8b0-1338230a2069",
   "metadata": {},
   "outputs": [
    {
     "data": {
      "text/plain": [
       "0"
      ]
     },
     "execution_count": 23,
     "metadata": {},
     "output_type": "execute_result"
    }
   ],
   "source": [
    "5//10\n"
   ]
  },
  {
   "cell_type": "code",
   "execution_count": 25,
   "id": "17272f62-9615-48a8-a52b-82254474928a",
   "metadata": {},
   "outputs": [
    {
     "name": "stdin",
     "output_type": "stream",
     "text": [
      "Enter a number 456654\n"
     ]
    },
    {
     "name": "stdout",
     "output_type": "stream",
     "text": [
      "Pallindrome\n"
     ]
    }
   ],
   "source": [
    "#pallindrome\n",
    "num1=int(input(\"Enter a number\"))\n",
    "temp=num1\n",
    "rev=0\n",
    "while num1>0:\n",
    "    digit=num1%10\n",
    "    rev=rev*10+digit\n",
    "    num1=num1//10\n",
    "if rev==temp:\n",
    "    print(\"Pallindrome\")\n",
    "else:\n",
    "    print(\"Not Pallindrome\")"
   ]
  },
  {
   "cell_type": "code",
   "execution_count": 28,
   "id": "ed72cb12-93e0-4520-8797-67d32a85e6a7",
   "metadata": {},
   "outputs": [
    {
     "data": {
      "text/plain": [
       "12"
      ]
     },
     "execution_count": 28,
     "metadata": {},
     "output_type": "execute_result"
    }
   ],
   "source": [
    "    125//10\n"
   ]
  },
  {
   "cell_type": "code",
   "execution_count": 27,
   "id": "11b038f8-4894-47cc-9b90-2b34e9d60150",
   "metadata": {},
   "outputs": [
    {
     "data": {
      "text/plain": [
       "12.5"
      ]
     },
     "execution_count": 27,
     "metadata": {},
     "output_type": "execute_result"
    }
   ],
   "source": [
    "125/10\n"
   ]
  },
  {
   "cell_type": "code",
   "execution_count": 33,
   "id": "d87d2e46-0244-48a3-a0f1-4351568dafb9",
   "metadata": {},
   "outputs": [
    {
     "name": "stdin",
     "output_type": "stream",
     "text": [
      "Enter a number 10\n"
     ]
    },
    {
     "name": "stdout",
     "output_type": "stream",
     "text": [
      "55\n"
     ]
    }
   ],
   "source": [
    "#fibonacci\n",
    "num1=int(input(\"Enter a number\"))\n",
    "a=0\n",
    "b=1\n",
    "if num1<0:\n",
    "    print(\"Incorrect input\")\n",
    "elif num1==0:\n",
    "    print(a)\n",
    "elif num1==1:\n",
    "    print(a)\n",
    "else:\n",
    "    for i in range(2,num1+1):\n",
    "        c=a+b\n",
    "        a=b\n",
    "        b=c\n",
    "    print(b)"
   ]
  },
  {
   "cell_type": "code",
   "execution_count": 36,
   "id": "53441075-1e0a-417c-8a73-3cb33efa3fa9",
   "metadata": {},
   "outputs": [],
   "source": [
    "def hello():\n",
    "    print(\"Hello world\")"
   ]
  },
  {
   "cell_type": "code",
   "execution_count": 37,
   "id": "4ad1f5ab-0b8e-4776-9257-15f05e1a8001",
   "metadata": {},
   "outputs": [
    {
     "name": "stdout",
     "output_type": "stream",
     "text": [
      "Hello world\n"
     ]
    }
   ],
   "source": [
    "hello()"
   ]
  },
  {
   "cell_type": "code",
   "execution_count": 38,
   "id": "2f8130a4-fed2-444b-8b02-362766f282bb",
   "metadata": {},
   "outputs": [],
   "source": [
    "def add10(x):\n",
    "    return x+10"
   ]
  },
  {
   "cell_type": "code",
   "execution_count": 40,
   "id": "29e90e22-d1b6-4067-a64e-1a7f5ce2e4b9",
   "metadata": {},
   "outputs": [
    {
     "data": {
      "text/plain": [
       "40"
      ]
     },
     "execution_count": 40,
     "metadata": {},
     "output_type": "execute_result"
    }
   ],
   "source": [
    "add10(30)"
   ]
  },
  {
   "cell_type": "code",
   "execution_count": 41,
   "id": "d42d114b-4d4d-49dc-8f66-e2aa47d34b19",
   "metadata": {},
   "outputs": [],
   "source": [
    "def even_odd(x):\n",
    "    if x%2==0:\n",
    "        print(\"even\")\n",
    "    else:\n",
    "        print(\"odd\")"
   ]
  },
  {
   "cell_type": "code",
   "execution_count": 42,
   "id": "dcdf9f9c-a3db-4aec-b280-ee120b376c51",
   "metadata": {},
   "outputs": [
    {
     "name": "stdout",
     "output_type": "stream",
     "text": [
      "odd\n"
     ]
    }
   ],
   "source": [
    "even_odd(23)"
   ]
  },
  {
   "cell_type": "code",
   "execution_count": 43,
   "id": "597b51e1-d200-4b5f-ad3a-7712e184a1b1",
   "metadata": {},
   "outputs": [
    {
     "name": "stdout",
     "output_type": "stream",
     "text": [
      "343\n"
     ]
    }
   ],
   "source": [
    "#lambda function\n",
    "a= lambda x:x*x*x\n",
    "print(a(7))"
   ]
  },
  {
   "cell_type": "code",
   "execution_count": 44,
   "id": "201db839-6540-45cc-921f-244cfe940d93",
   "metadata": {},
   "outputs": [
    {
     "name": "stdout",
     "output_type": "stream",
     "text": [
      "[23, 45, 67, 123]\n"
     ]
    }
   ],
   "source": [
    "#lambda filter\n",
    "list1=[12,23,45,67,88,124,123]\n",
    "final_list=list(filter(lambda x: (x%2!=0), list1))\n",
    "print(final_list)"
   ]
  },
  {
   "cell_type": "code",
   "execution_count": 46,
   "id": "218045ac-f3b1-4fc6-9301-c358d2c954a5",
   "metadata": {},
   "outputs": [
    {
     "name": "stdout",
     "output_type": "stream",
     "text": [
      "[24, 46, 90, 134, 176, 248, 246]\n"
     ]
    }
   ],
   "source": [
    "#lambda map\n",
    "list1=[12,23,45,67,88,124,123]\n",
    "final_list=list(map(lambda x: (x*2), list1))\n",
    "print(final_list)"
   ]
  },
  {
   "cell_type": "code",
   "execution_count": 48,
   "id": "f0415045-83e5-4572-90a3-791316300ce6",
   "metadata": {},
   "outputs": [
    {
     "name": "stdout",
     "output_type": "stream",
     "text": [
      "482\n"
     ]
    }
   ],
   "source": [
    "#lambda reduce\n",
    "from functools import reduce\n",
    "list1=[12,23,45,67,88,124,123]\n",
    "sum= reduce((lambda x,y:x+y), list1)\n",
    "print(sum)"
   ]
  },
  {
   "cell_type": "code",
   "execution_count": null,
   "id": "404d8524-c4de-46a3-872a-711e25a9c294",
   "metadata": {},
   "outputs": [],
   "source": []
  }
 ],
 "metadata": {
  "kernelspec": {
   "display_name": "Python 3 (ipykernel)",
   "language": "python",
   "name": "python3"
  },
  "language_info": {
   "codemirror_mode": {
    "name": "ipython",
    "version": 3
   },
   "file_extension": ".py",
   "mimetype": "text/x-python",
   "name": "python",
   "nbconvert_exporter": "python",
   "pygments_lexer": "ipython3",
   "version": "3.10.8"
  }
 },
 "nbformat": 4,
 "nbformat_minor": 5
}
