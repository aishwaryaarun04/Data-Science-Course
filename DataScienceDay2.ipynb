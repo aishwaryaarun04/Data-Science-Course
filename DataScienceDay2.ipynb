{
 "cells": [
  {
   "cell_type": "code",
   "execution_count": 2,
   "id": "21279f56-3ec7-4eb0-aab5-5794e39f2326",
   "metadata": {},
   "outputs": [
    {
     "name": "stdout",
     "output_type": "stream",
     "text": [
      "My age is 31\n"
     ]
    }
   ],
   "source": [
    "age=31\n",
    "print(\"My age is\",age)"
   ]
  },
  {
   "cell_type": "code",
   "execution_count": 3,
   "id": "9ed4e36b-34e4-4f78-92a2-2866cd69d511",
   "metadata": {},
   "outputs": [
    {
     "name": "stdout",
     "output_type": "stream",
     "text": [
      "My age is 31\n"
     ]
    }
   ],
   "source": [
    "age=31\n",
    "print(f\"My age is {age}\")"
   ]
  },
  {
   "cell_type": "code",
   "execution_count": 7,
   "id": "069b1922-bccd-4023-9dc6-27f66263ef29",
   "metadata": {},
   "outputs": [
    {
     "name": "stdout",
     "output_type": "stream",
     "text": [
      "My age is 31 and name is looser\n"
     ]
    }
   ],
   "source": [
    "age=31\n",
    "name=\"looser\"\n",
    "print(\"My age is {} and name is {}\".format(age,name))"
   ]
  },
  {
   "cell_type": "code",
   "execution_count": 8,
   "id": "5978b471-4c82-411c-8ec5-aaa3b066bc59",
   "metadata": {},
   "outputs": [
    {
     "name": "stdout",
     "output_type": "stream",
     "text": [
      "My age is 31 and name is looser\n"
     ]
    }
   ],
   "source": [
    "age=31\n",
    "name=\"looser\"\n",
    "print(\"My age is {firstage} and name is {firstname}\".format(firstage=age,firstname=name))"
   ]
  },
  {
   "cell_type": "code",
   "execution_count": 12,
   "id": "325a1ba9-c1a1-458e-84a8-e75f9df93588",
   "metadata": {},
   "outputs": [
    {
     "name": "stdout",
     "output_type": "stream",
     "text": [
      "My name is looser, I am 31 years old and I have completed MTech\n"
     ]
    }
   ],
   "source": [
    "age=31\n",
    "name=\"looser\"\n",
    "degree=\"MTech\"\n",
    "print(\"My name is {firstname}, I am {firstage} years old and I have completed {firstdegree}\".format(firstage=age,firstname=name,firstdegree=degree))"
   ]
  },
  {
   "cell_type": "code",
   "execution_count": 13,
   "id": "cfe09322-632c-4da6-9c46-76c928d665fd",
   "metadata": {},
   "outputs": [
    {
     "name": "stdout",
     "output_type": "stream",
     "text": [
      "My name is looser, I am 31 years old and I have completed MTech\n"
     ]
    }
   ],
   "source": [
    "age=31\n",
    "name=\"looser\"\n",
    "degree=\"MTech\"\n",
    "print(f\"My name is {name}, I am {age} years old and I have completed {degree}\")"
   ]
  },
  {
   "cell_type": "code",
   "execution_count": 14,
   "id": "02cfa432-59c8-438a-8848-ed84b6051356",
   "metadata": {},
   "outputs": [
    {
     "name": "stdout",
     "output_type": "stream",
     "text": [
      "You are an adult\n"
     ]
    }
   ],
   "source": [
    "if age>18:\n",
    "    print(\"You are an adult\")"
   ]
  },
  {
   "cell_type": "code",
   "execution_count": 16,
   "id": "2fb9ca7d-d425-486b-a757-28e18061d8a7",
   "metadata": {},
   "outputs": [
    {
     "name": "stdin",
     "output_type": "stream",
     "text": [
      "Enter the age 31\n"
     ]
    },
    {
     "name": "stdout",
     "output_type": "stream",
     "text": [
      "You are an adult\n"
     ]
    }
   ],
   "source": [
    "age=int(input(\"Enter the age\"))\n",
    "if age>18:\n",
    "    print(\"You are an adult\")"
   ]
  },
  {
   "cell_type": "code",
   "execution_count": 18,
   "id": "566958f9-00ad-4463-b394-345555323291",
   "metadata": {},
   "outputs": [
    {
     "name": "stdin",
     "output_type": "stream",
     "text": [
      "Enter the age 17\n"
     ]
    },
    {
     "name": "stdout",
     "output_type": "stream",
     "text": [
      "Not eligible\n"
     ]
    }
   ],
   "source": [
    "age=int(input(\"Enter the age\"))\n",
    "if age>=18 and age<=45:\n",
    "    print(\"You are a young adult\")\n",
    "else:\n",
    "    print(\"Not eligible\")\n",
    "    "
   ]
  },
  {
   "cell_type": "code",
   "execution_count": 21,
   "id": "68dbb57b-4602-4dbc-a7c7-742ea1494bf4",
   "metadata": {},
   "outputs": [
    {
     "name": "stdout",
     "output_type": "stream",
     "text": [
      "Welcome to the Mall/n Select a product!\n"
     ]
    },
    {
     "name": "stdin",
     "output_type": "stream",
     "text": [
      "Enter the price 2000\n"
     ]
    },
    {
     "name": "stdout",
     "output_type": "stream",
     "text": [
      "Please pay 1800.0 and have the product\n"
     ]
    }
   ],
   "source": [
    "print(\"Welcome to the Mall/n Select a product!\")\n",
    "product_cost=int(input(\"Enter the price\"))\n",
    "if product_cost>1000:\n",
    "    discount=0.1*product_cost\n",
    "elif product_cost<=1000:\n",
    "    discount=0.3*product_cost\n",
    "final_price=product_cost-discount\n",
    "print(\"Please pay {} and have the product\".format(final_price))"
   ]
  },
  {
   "cell_type": "code",
   "execution_count": null,
   "id": "35027acc-5cd8-4c6a-9157-1040b4324e36",
   "metadata": {},
   "outputs": [],
   "source": []
  }
 ],
 "metadata": {
  "kernelspec": {
   "display_name": "Python 3 (ipykernel)",
   "language": "python",
   "name": "python3"
  },
  "language_info": {
   "codemirror_mode": {
    "name": "ipython",
    "version": 3
   },
   "file_extension": ".py",
   "mimetype": "text/x-python",
   "name": "python",
   "nbconvert_exporter": "python",
   "pygments_lexer": "ipython3",
   "version": "3.10.8"
  }
 },
 "nbformat": 4,
 "nbformat_minor": 5
}
