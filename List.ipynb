{
 "cells": [
  {
   "cell_type": "code",
   "execution_count": 6,
   "id": "5bed952e-04b4-44f0-a4f9-6c2119492a0e",
   "metadata": {},
   "outputs": [
    {
     "name": "stdout",
     "output_type": "stream",
     "text": [
      "Hello\n"
     ]
    },
    {
     "data": {
      "text/plain": [
       "'Hello'"
      ]
     },
     "execution_count": 6,
     "metadata": {},
     "output_type": "execute_result"
    }
   ],
   "source": [
    "a=\"Hello\"\n",
    "b=\"\".join(a)\n",
    "print(b)\n",
    "b"
   ]
  },
  {
   "cell_type": "code",
   "execution_count": 7,
   "id": "0c604d5d-7dde-40d4-8e44-d5e7d6c6f557",
   "metadata": {},
   "outputs": [
    {
     "data": {
      "text/plain": [
       "['H', 'e', 'l', 'l', 'o']"
      ]
     },
     "execution_count": 7,
     "metadata": {},
     "output_type": "execute_result"
    }
   ],
   "source": [
    "list(b)"
   ]
  },
  {
   "cell_type": "code",
   "execution_count": 9,
   "id": "5d38e5df-eb74-4620-9b24-95db227d4e08",
   "metadata": {},
   "outputs": [
    {
     "data": {
      "text/plain": [
       "[\"['H'\", \" 'e'\", \" 'l'\", \" 'l'\", \" 'o']\"]"
      ]
     },
     "execution_count": 9,
     "metadata": {},
     "output_type": "execute_result"
    }
   ],
   "source": [
    "str(list(b)).split(\",\")"
   ]
  },
  {
   "cell_type": "code",
   "execution_count": 11,
   "id": "5d22323a-c821-4877-86b5-6a94da160de4",
   "metadata": {},
   "outputs": [
    {
     "name": "stdout",
     "output_type": "stream",
     "text": [
      "olleH"
     ]
    }
   ],
   "source": [
    "for i in reversed(a):\n",
    "    print(i, end=\"\")\n",
    "    "
   ]
  },
  {
   "cell_type": "code",
   "execution_count": 12,
   "id": "5fc531a5-f72d-42d9-a54c-9de968788b16",
   "metadata": {},
   "outputs": [],
   "source": [
    "c=\" Hello \""
   ]
  },
  {
   "cell_type": "code",
   "execution_count": 13,
   "id": "f789f915-8191-43c3-b4ce-fd61f596b2bc",
   "metadata": {},
   "outputs": [
    {
     "data": {
      "text/plain": [
       "'Hello'"
      ]
     },
     "execution_count": 13,
     "metadata": {},
     "output_type": "execute_result"
    }
   ],
   "source": [
    "c.strip()"
   ]
  },
  {
   "cell_type": "code",
   "execution_count": 19,
   "id": "878c7a31-bfbd-4e2b-8780-a4a9eaef88e2",
   "metadata": {},
   "outputs": [
    {
     "data": {
      "text/plain": [
       "'Heooo'"
      ]
     },
     "execution_count": 19,
     "metadata": {},
     "output_type": "execute_result"
    }
   ],
   "source": [
    "c.replace(\"l\",\"o\").strip()"
   ]
  },
  {
   "cell_type": "code",
   "execution_count": null,
   "id": "0b669922-61e4-48de-b6db-9ab5ebc18155",
   "metadata": {},
   "outputs": [],
   "source": []
  }
 ],
 "metadata": {
  "kernelspec": {
   "display_name": "Python 3 (ipykernel)",
   "language": "python",
   "name": "python3"
  },
  "language_info": {
   "codemirror_mode": {
    "name": "ipython",
    "version": 3
   },
   "file_extension": ".py",
   "mimetype": "text/x-python",
   "name": "python",
   "nbconvert_exporter": "python",
   "pygments_lexer": "ipython3",
   "version": "3.10.8"
  }
 },
 "nbformat": 4,
 "nbformat_minor": 5
}
