{
 "cells": [
  {
   "cell_type": "markdown",
   "id": "a57f58fc-82e7-4a09-86bc-2b15b63981db",
   "metadata": {},
   "source": [
    "Q1."
   ]
  },
  {
   "cell_type": "code",
   "execution_count": 5,
   "id": "314ee5a7-1d4b-44f3-a58d-e751fe37dd0f",
   "metadata": {},
   "outputs": [
    {
     "name": "stdout",
     "output_type": "stream",
     "text": [
      "Ford\n",
      "200\n",
      "100\n"
     ]
    }
   ],
   "source": [
    "class Vehicle:\n",
    "    def __init__(self,name_of_vehicle,max_speed,average_of_vehicle):\n",
    "        self.name_of_vehicle=name_of_vehicle\n",
    "        self.max_speed=max_speed\n",
    "        self.average_of_vehicle=average_of_vehicle\n",
    "    def get_data(self):\n",
    "        print(self.name_of_vehicle)\n",
    "        print(self.max_speed)\n",
    "        print(self.average_of_vehicle)\n",
    "vehicle_object=Vehicle(\"Ford\",200,100)\n",
    "vehicle_object.get_data()"
   ]
  },
  {
   "cell_type": "markdown",
   "id": "722ab8e8-2faa-4cee-af0a-00191a544ed8",
   "metadata": {},
   "source": [
    "Q2."
   ]
  },
  {
   "cell_type": "code",
   "execution_count": 36,
   "id": "d0eac574-8d13-4319-96e5-15f53453ed84",
   "metadata": {},
   "outputs": [
    {
     "data": {
      "text/plain": [
       "'Zen -- Capacity:5'"
      ]
     },
     "execution_count": 36,
     "metadata": {},
     "output_type": "execute_result"
    }
   ],
   "source": [
    "class Car(Vehicle):\n",
    "    def seating_capacity(self, capacity):\n",
    "        return f\"{self.name_of_vehicle} -- Capacity:{capacity}\"\n",
    "    \n",
    "capacity = 5\n",
    "car1=Car(\"Zen\",500,1000)\n",
    "car1.seating_capacity(capacity)\n"
   ]
  },
  {
   "cell_type": "markdown",
   "id": "f4410d39-b915-4874-82e4-4f26084a02b8",
   "metadata": {},
   "source": [
    "Q3."
   ]
  },
  {
   "cell_type": "markdown",
   "id": "dbb2804b-3f98-4dec-ba69-aed5e3ef6487",
   "metadata": {},
   "source": [
    "Ans. When a class is derived from more than one base class it is called multiple Inheritance. "
   ]
  },
  {
   "cell_type": "code",
   "execution_count": 66,
   "id": "ea288c08-3bfc-494d-a0ca-0365fea5d7ab",
   "metadata": {},
   "outputs": [
    {
     "name": "stdout",
     "output_type": "stream",
     "text": [
      "The quantity is: 200\n",
      "The colour is: Blue\n",
      "Type of the item is: Toy\n"
     ]
    }
   ],
   "source": [
    "class Parent1:\n",
    "    def __init__(self,quantity):\n",
    "        self.quantity=quantity\n",
    "    def P1(self):\n",
    "        return f\"The quantity is: {self.quantity}\"\n",
    "class Parent2:\n",
    "    def __init__(self,colour):\n",
    "        self.colour=colour\n",
    "    def P2(self):\n",
    "        return f\"The colour is: {self.colour}\"\n",
    "class Child(Parent1,Parent2):\n",
    "    def __init__(self, quantity, colour):\n",
    "        super().__init__(quantity)\n",
    "        Parent2.__init__(self, colour)\n",
    "    def test(self,type):\n",
    "        return f\"Type of the item is: {type}\"\n",
    "child_obj=Child(200,\"Blue\")\n",
    "print(child_obj.P1())\n",
    "print(child_obj.P2())\n",
    "print(child_obj.test(\"Toy\"))"
   ]
  },
  {
   "cell_type": "markdown",
   "id": "a15d1e19-bd05-4111-9ca5-1181ce84b70b",
   "metadata": {},
   "source": [
    "Q4."
   ]
  },
  {
   "cell_type": "code",
   "execution_count": 67,
   "id": "6381a471-d0c8-4f49-995e-9f62cf7f2082",
   "metadata": {},
   "outputs": [
    {
     "name": "stdout",
     "output_type": "stream",
     "text": [
      "John\n",
      "Alice\n"
     ]
    }
   ],
   "source": [
    "class Person:\n",
    "    def __init__(self, name):\n",
    "        self._name = name \n",
    "\n",
    "    def get_name(self):\n",
    "        return self._name\n",
    "\n",
    "    def set_name(self, name):\n",
    "        self._name = name\n",
    "\n",
    "person = Person(\"John\")\n",
    "\n",
    "\n",
    "name = person.get_name()\n",
    "print(name)  \n",
    "\n",
    "person.set_name(\"Alice\")\n",
    "\n",
    "\n",
    "name = person.get_name()\n",
    "print(name) "
   ]
  },
  {
   "cell_type": "markdown",
   "id": "b1130acd-2fdb-470b-a049-04e592ce91f6",
   "metadata": {},
   "source": [
    "Q5."
   ]
  },
  {
   "cell_type": "markdown",
   "id": "1ba5ac09-b984-41f6-b831-9c3c26961e32",
   "metadata": {},
   "source": [
    "Ans.Method overriding is a feature of object-oriented programming languages where the subclass or child class can provide the program with specific characteristics or a specific implementation process of data provided that are already defined in the parent class or superclass."
   ]
  },
  {
   "cell_type": "code",
   "execution_count": 68,
   "id": "1a292946-c4f9-41cb-afc5-680043940cad",
   "metadata": {},
   "outputs": [
    {
     "name": "stdout",
     "output_type": "stream",
     "text": [
      "Hello, I am the child.\n"
     ]
    }
   ],
   "source": [
    "class Parent:\n",
    "    def greet(self):\n",
    "        print(\"Hello, I am the parent.\")\n",
    "\n",
    "class Child(Parent):\n",
    "    def greet(self):\n",
    "        print(\"Hello, I am the child.\")\n",
    "\n",
    "child = Child()\n",
    "child.greet()"
   ]
  },
  {
   "cell_type": "code",
   "execution_count": null,
   "id": "756c00e5-7e14-4f34-b9ff-67fce969e37e",
   "metadata": {},
   "outputs": [],
   "source": []
  }
 ],
 "metadata": {
  "kernelspec": {
   "display_name": "Python 3 (ipykernel)",
   "language": "python",
   "name": "python3"
  },
  "language_info": {
   "codemirror_mode": {
    "name": "ipython",
    "version": 3
   },
   "file_extension": ".py",
   "mimetype": "text/x-python",
   "name": "python",
   "nbconvert_exporter": "python",
   "pygments_lexer": "ipython3",
   "version": "3.10.8"
  }
 },
 "nbformat": 4,
 "nbformat_minor": 5
}
