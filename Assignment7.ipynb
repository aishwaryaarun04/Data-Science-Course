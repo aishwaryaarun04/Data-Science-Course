{
 "cells": [
  {
   "cell_type": "code",
   "execution_count": 1,
   "id": "24831321-0519-4137-9f2b-fe15a9d02805",
   "metadata": {},
   "outputs": [],
   "source": [
    "#Q1."
   ]
  },
  {
   "cell_type": "code",
   "execution_count": 13,
   "id": "58f182ea-a65d-400a-9227-69ab257e0a8c",
   "metadata": {},
   "outputs": [
    {
     "name": "stdin",
     "output_type": "stream",
     "text": [
      "Enter the password WWee@#$123\n"
     ]
    },
    {
     "name": "stdout",
     "output_type": "stream",
     "text": [
      "Valid Password\n"
     ]
    }
   ],
   "source": [
    "def check_password(password):\n",
    "    upper_count=0\n",
    "    lower_count=0\n",
    "    num_count=0\n",
    "    sp_char_count=0\n",
    "    for i in password:\n",
    "        if i.isupper():\n",
    "            upper_count+=1            \n",
    "        else:\n",
    "            pass\n",
    "        if i.islower():\n",
    "            lower_count+=1\n",
    "        else:\n",
    "            pass\n",
    "        if i.isdigit():\n",
    "            num_count+=1\n",
    "        else:\n",
    "            pass\n",
    "        if not i.isalnum():\n",
    "            sp_char_count+=1\n",
    "        else:\n",
    "            continue\n",
    "       \n",
    "    if upper_count>=2 and lower_count>=2 and num_count>=1 and sp_char_count>=3 and len(password)==10:\n",
    "        print(\"Valid Password\")\n",
    "    else:\n",
    "        print(\"Invalid Password\")\n",
    "check_pass= input(\"Enter the password\")\n",
    "check_password(check_pass)"
   ]
  },
  {
   "cell_type": "code",
   "execution_count": 1,
   "id": "4b79a768-dbd2-404d-bd17-7d5178351149",
   "metadata": {},
   "outputs": [],
   "source": [
    "#Q2."
   ]
  },
  {
   "cell_type": "markdown",
   "id": "16353c12-b484-45f6-a0b5-7a86bd53942d",
   "metadata": {},
   "source": [
    "1."
   ]
  },
  {
   "cell_type": "code",
   "execution_count": 14,
   "id": "c673b430-72bf-4ca6-84b0-09691e5b1b71",
   "metadata": {},
   "outputs": [
    {
     "name": "stdin",
     "output_type": "stream",
     "text": [
      "Enter a string banana\n",
      "Enter a letter a\n"
     ]
    },
    {
     "name": "stdout",
     "output_type": "stream",
     "text": [
      "No\n"
     ]
    }
   ],
   "source": [
    "def check_letter():\n",
    "    string=input(\"Enter a string\")\n",
    "    letter=input(\"Enter a letter\")\n",
    "    startswith=lambda x: x.startswith(letter)\n",
    "    if startswith(string):   \n",
    "        print(\"Yes\")\n",
    "    else:\n",
    "        print(\"No\")\n",
    "\n",
    "check_letter()\n",
    "        \n",
    "    "
   ]
  },
  {
   "cell_type": "markdown",
   "id": "0249214d-11d0-4e00-9e44-c8e655a1063b",
   "metadata": {},
   "source": [
    "2."
   ]
  },
  {
   "cell_type": "code",
   "execution_count": 41,
   "id": "27968cac-eb2c-4ec4-ba65-62f29a060f2d",
   "metadata": {},
   "outputs": [
    {
     "name": "stdin",
     "output_type": "stream",
     "text": [
      "Enter the string -9\n"
     ]
    },
    {
     "name": "stdout",
     "output_type": "stream",
     "text": [
      "Yes\n"
     ]
    }
   ],
   "source": [
    "string=input(\"Enter the string\")\n",
    "is_numeric = lambda s: s.replace('.', '', 1).replace(\"-\",\"\",1).isdigit()\n",
    "a=is_numeric(string)\n",
    "if a:\n",
    "    print(\"Yes\")\n",
    "else:\n",
    "    print(\"No\")"
   ]
  },
  {
   "cell_type": "markdown",
   "id": "51dd956c-86c5-4be4-9668-30e3134cd30a",
   "metadata": {},
   "source": [
    "3."
   ]
  },
  {
   "cell_type": "code",
   "execution_count": 44,
   "id": "3ed9196c-24e9-499a-a2a2-138bee5149a6",
   "metadata": {},
   "outputs": [
    {
     "name": "stdout",
     "output_type": "stream",
     "text": [
      "According to fruit name [('grapes', 1000), ('mango', 99), ('orange', 80)]\n",
      "According to quantity [('orange', 80), ('mango', 99), ('grapes', 1000)]\n"
     ]
    }
   ],
   "source": [
    "fruits = [(\"mango\", 99), (\"orange\", 80), (\"grapes\", 1000)]\n",
    "sorted_fruits = sorted(fruits, key=lambda x: x[0])\n",
    "print(\"According to fruit name\",sorted_fruits)\n",
    "sorted_fruits = sorted(fruits, key=lambda x: x[1])\n",
    "print(\"According to quantity\",sorted_fruits)"
   ]
  },
  {
   "cell_type": "markdown",
   "id": "2457f973-5f45-42c3-8bce-963ea4d6353d",
   "metadata": {},
   "source": [
    "4."
   ]
  },
  {
   "cell_type": "code",
   "execution_count": 45,
   "id": "3ded4ffd-5533-49df-bb05-d48086161540",
   "metadata": {},
   "outputs": [
    {
     "name": "stdout",
     "output_type": "stream",
     "text": [
      "[1, 4, 9, 16, 25, 36, 49, 64, 81, 100]\n"
     ]
    }
   ],
   "source": [
    "squares_lambda = list(map(lambda x: x ** 2, range(1, 11)))\n",
    "print(squares_lambda)"
   ]
  },
  {
   "cell_type": "code",
   "execution_count": 46,
   "id": "30098e0a-5be2-48cc-af42-bd210d58035f",
   "metadata": {},
   "outputs": [
    {
     "name": "stdout",
     "output_type": "stream",
     "text": [
      "[1, 4, 9, 16, 25, 36, 49, 64, 81, 100]\n"
     ]
    }
   ],
   "source": [
    "squares_lc = [x ** 2 for x in range(1, 11)]\n",
    "print(squares_lc)"
   ]
  },
  {
   "cell_type": "markdown",
   "id": "4b794b37-19cf-4de1-b90c-1d88ee176cbe",
   "metadata": {},
   "source": [
    "5. "
   ]
  },
  {
   "cell_type": "code",
   "execution_count": 52,
   "id": "48b4a2fe-8a04-4ca6-a010-c3ca31d62911",
   "metadata": {},
   "outputs": [
    {
     "name": "stdout",
     "output_type": "stream",
     "text": [
      "[1.0, 1.2599210498948732, 1.4422495703074083, 1.5874010519681994, 1.7099759466766968, 1.8171205928321397, 1.912931182772389, 2.0, 2.080083823051904, 2.154434690031884]\n"
     ]
    }
   ],
   "source": [
    "cube_roots_lambda = list(map(lambda x: x ** (1/3), range(1, 11)))\n",
    "print(cube_roots_lambda)"
   ]
  },
  {
   "cell_type": "code",
   "execution_count": 51,
   "id": "d867b51e-48cd-4520-a4a4-aa75b87c5732",
   "metadata": {},
   "outputs": [
    {
     "name": "stdout",
     "output_type": "stream",
     "text": [
      "[1.0, 1.2599210498948732, 1.4422495703074083, 1.5874010519681994, 1.7099759466766968, 1.8171205928321397, 1.912931182772389, 2.0, 2.080083823051904, 2.154434690031884]\n"
     ]
    }
   ],
   "source": [
    "cube_roots_lc = [x ** (1/3) for x in range(1, 11)]\n",
    "print(cube_roots_lc)"
   ]
  },
  {
   "cell_type": "markdown",
   "id": "92b05056-65c5-4896-8a85-87ef0d28378c",
   "metadata": {},
   "source": [
    "6."
   ]
  },
  {
   "cell_type": "code",
   "execution_count": 71,
   "id": "daf2bc6a-d6a1-4393-9843-caaf70ebbe36",
   "metadata": {},
   "outputs": [
    {
     "name": "stdin",
     "output_type": "stream",
     "text": [
      "Enter a number 98\n"
     ]
    },
    {
     "name": "stdout",
     "output_type": "stream",
     "text": [
      "Even\n"
     ]
    }
   ],
   "source": [
    "number=int(input(\"Enter a number\"))\n",
    "is_even = lambda x: x % 2 == 0\n",
    "result= is_even(number)\n",
    "if result:\n",
    "    print(\"Even\")\n",
    "else:\n",
    "    print(\"Odd\")\n"
   ]
  },
  {
   "cell_type": "markdown",
   "id": "7dbe5b1c-e8d0-440c-b9b8-28b654a61d86",
   "metadata": {},
   "source": [
    "7."
   ]
  },
  {
   "cell_type": "code",
   "execution_count": 78,
   "id": "360a2292-b7aa-4236-a83d-5c66ed778437",
   "metadata": {},
   "outputs": [
    {
     "name": "stdout",
     "output_type": "stream",
     "text": [
      "[1, 3, 5, 7, 9]\n"
     ]
    }
   ],
   "source": [
    "odd_numbers = list(filter(lambda x: x % 2 != 0, range(1,11)))\n",
    "print(odd_numbers)"
   ]
  },
  {
   "cell_type": "markdown",
   "id": "fecd9ea4-cfe2-4bb8-aca7-8aa9a215c1ed",
   "metadata": {},
   "source": [
    "8."
   ]
  },
  {
   "cell_type": "code",
   "execution_count": null,
   "id": "c10bd2b6-776b-4a07-84e0-e92e3320d72f",
   "metadata": {},
   "outputs": [],
   "source": [
    "num_list=[1,2,3,4,5,6,-1,-2,-3,-4,-5,0]\n",
    "positive=list(filter(lambda x:x>0,num_list))\n",
    "negative=list(filter(lambda x:x<0,num_list))\n",
    "print(posi"
   ]
  }
 ],
 "metadata": {
  "kernelspec": {
   "display_name": "Python 3 (ipykernel)",
   "language": "python",
   "name": "python3"
  },
  "language_info": {
   "codemirror_mode": {
    "name": "ipython",
    "version": 3
   },
   "file_extension": ".py",
   "mimetype": "text/x-python",
   "name": "python",
   "nbconvert_exporter": "python",
   "pygments_lexer": "ipython3",
   "version": "3.10.8"
  }
 },
 "nbformat": 4,
 "nbformat_minor": 5
}
