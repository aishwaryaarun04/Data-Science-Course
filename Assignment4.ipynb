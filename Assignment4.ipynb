{
 "cells": [
  {
   "cell_type": "markdown",
   "id": "c7c973ff-05f6-42b1-af7a-adb55fab1ccd",
   "metadata": {},
   "source": [
    "Q. Who developed Python Programming Language? "
   ]
  },
  {
   "cell_type": "markdown",
   "id": "cad6a9ec-8f61-4d93-b0bf-92876e7776e8",
   "metadata": {},
   "source": [
    "Ans. Guido van Rossum"
   ]
  },
  {
   "cell_type": "markdown",
   "id": "51bf76be-7d70-4796-a3db-933a8f8033aa",
   "metadata": {},
   "source": [
    "Q. Which type of Programming does Python support? "
   ]
  },
  {
   "cell_type": "markdown",
   "id": "45984fe7-139b-49ee-9cfe-4525e7646eb4",
   "metadata": {},
   "source": [
    "Ans. Object Oriented Programming "
   ]
  },
  {
   "cell_type": "markdown",
   "id": "e7176c7e-de69-44f8-a1fc-5876cb183ccf",
   "metadata": {},
   "source": [
    "Q. Is Python case sensitive when dealing with identifiers? "
   ]
  },
  {
   "cell_type": "markdown",
   "id": "0831defe-a603-4629-8142-38876776b5ea",
   "metadata": {},
   "source": [
    "Ans. Yes"
   ]
  },
  {
   "cell_type": "markdown",
   "id": "ab5b0694-2eb9-41a4-a1a4-beff2dc3d177",
   "metadata": {},
   "source": [
    "Q. What is the correct extension of the Python file? "
   ]
  },
  {
   "cell_type": "markdown",
   "id": "67146ae2-a61d-4493-90da-75b4a1fa2ac0",
   "metadata": {},
   "source": [
    "Ans. '.py'"
   ]
  },
  {
   "cell_type": "markdown",
   "id": "2e22140e-913e-4715-baab-930296cfea91",
   "metadata": {},
   "source": [
    "Q.  Is Python code compiled or interpreted?"
   ]
  },
  {
   "cell_type": "markdown",
   "id": "42e7b8f4-3c41-4773-98da-36fe670ac504",
   "metadata": {},
   "source": [
    "Ans. Interpreted"
   ]
  },
  {
   "cell_type": "markdown",
   "id": "a252a09e-39b0-4f07-a34f-02fb5d09a6ee",
   "metadata": {},
   "source": [
    "Q. Name a few blocks of code used to define in Python language? "
   ]
  },
  {
   "cell_type": "markdown",
   "id": "e151a79b-51c6-4a1a-acb9-efec2d91c542",
   "metadata": {},
   "source": [
    "Ans. "
   ]
  },
  {
   "cell_type": "markdown",
   "id": "269fabd5-c695-4983-952c-2e4163164778",
   "metadata": {},
   "source": [
    "Q. State a character used to give single-line comments in Python? "
   ]
  },
  {
   "cell_type": "markdown",
   "id": "136711a8-5413-4c7e-92ff-671123165c95",
   "metadata": {},
   "source": [
    "Ans. #"
   ]
  },
  {
   "cell_type": "markdown",
   "id": "45619b0e-96ec-42b5-9a3d-b101ed340e3c",
   "metadata": {},
   "source": [
    "Q. Mention functions which can help us to find the version of python that we are currently working on? "
   ]
  },
  {
   "cell_type": "markdown",
   "id": "fd06b978-715b-4331-8dd1-2ac0ccf51473",
   "metadata": {},
   "source": [
    "Ans. python_version()"
   ]
  },
  {
   "cell_type": "code",
   "execution_count": 8,
   "id": "b54b0191-5c98-4dbf-8f4a-91beba474b67",
   "metadata": {},
   "outputs": [
    {
     "data": {
      "text/plain": [
       "'3.10.8'"
      ]
     },
     "execution_count": 8,
     "metadata": {},
     "output_type": "execute_result"
    }
   ],
   "source": [
    "from platform import python_version\n",
    "python_version()"
   ]
  },
  {
   "cell_type": "markdown",
   "id": "d4ddde22-af74-4583-bc8a-d98e168b0eef",
   "metadata": {},
   "source": [
    "Q. Python supports the creation of anonymous functions at runtime, using a construct called "
   ]
  },
  {
   "cell_type": "markdown",
   "id": "ada07519-9999-4165-b38f-f5696bcd12d8",
   "metadata": {},
   "source": [
    "Ans. lambda"
   ]
  },
  {
   "cell_type": "markdown",
   "id": "d7e6cafa-19da-426c-ad3c-5a0ad726bf08",
   "metadata": {},
   "source": [
    "Q. What does pip stand for python? "
   ]
  },
  {
   "cell_type": "markdown",
   "id": "24cd7d62-823f-4f11-bb13-00e1616fcf71",
   "metadata": {},
   "source": [
    "Ans. acronym of “pip Install Packages”"
   ]
  },
  {
   "cell_type": "markdown",
   "id": "8af61896-30f4-4d43-b48e-829e8554aee2",
   "metadata": {},
   "source": [
    "Q. Mention a few built-in functions in python? "
   ]
  },
  {
   "cell_type": "markdown",
   "id": "523ff49a-f369-4e78-8908-b3b1fcf7297c",
   "metadata": {},
   "source": [
    "Ans. int(), float(), len(), dict(), sum()"
   ]
  },
  {
   "cell_type": "markdown",
   "id": "ad8b39a4-8b4e-493b-bf10-963ac7f38b15",
   "metadata": {},
   "source": [
    "Q. What is the maximum possible length of an identifier in Python? "
   ]
  },
  {
   "cell_type": "markdown",
   "id": "4197dc34-5d23-464f-87de-2ec788107771",
   "metadata": {},
   "source": [
    "Ans. 79"
   ]
  },
  {
   "cell_type": "markdown",
   "id": "093e313e-d366-422a-b5ee-0757f39ee909",
   "metadata": {},
   "source": [
    "Q. What are the benefits of using Python? "
   ]
  },
  {
   "cell_type": "markdown",
   "id": "0030fad0-e557-435a-9b82-e9d862e54a51",
   "metadata": {},
   "source": [
    "Ans. Presence of third-party modules, \n",
    "Extensive support libraries(NumPy for numerical calculations, Pandas for data analytics, etc.),\n",
    "Open source and large active community base ,\n",
    "Versatile, Easy to read, learn and write,\n",
    "User-friendly data structures ,\n",
    "High-level language ,\n",
    "Dynamically typed language(No need to mention data type based on the value assigned, it takes data type), \n",
    "Object-Oriented and Procedural  Programming language,\n",
    "Portable and Interactive,\n",
    "Ideal for prototypes – provide more functionality with less coding,\n",
    "Highly Efficient(Python’s clean object-oriented design provides enhanced process control, and the language is equipped with excellent text processing and integration capabilities, as well as its own unit testing framework, which makes it more efficient.),\n",
    "Internet of Things(IoT) Opportunities,\n",
    "Interpreted Language,\n",
    "Portable across Operating systems "
   ]
  },
  {
   "cell_type": "markdown",
   "id": "05e83ca8-9734-4fab-9fe4-d75a0fe8ba7b",
   "metadata": {},
   "source": [
    "Q. How is memory managed in Python? "
   ]
  },
  {
   "cell_type": "markdown",
   "id": "fc89ecfb-5d71-4d3b-ab78-2cc301f8c77a",
   "metadata": {},
   "source": [
    "Ans. Python uses the dynamic memory allocation which is managed by the Heap data structure. Memory Heap holds the objects and other data structures that will be used in the program. Python memory manager manages the allocation or de-allocation of the heap memory space through the API functions."
   ]
  },
  {
   "cell_type": "markdown",
   "id": "3e4e351d-ba3e-4696-9182-aeed133c365a",
   "metadata": {},
   "source": [
    "Q.How to install Python on Windows and set path variables? "
   ]
  },
  {
   "cell_type": "markdown",
   "id": "9dd0a3d3-de36-4205-b328-1e647526594c",
   "metadata": {},
   "source": [
    "Ans. To download Python, you need to visit www.python.org, which is the official Python website. Click on the Downloads tab and then select the Windows option. This will take you to the page where the different Python releases for Windows can be found. Since I am using a 64bit system, I’ll select “Windows x86-64 executable installer”. Once the executable file download is complete, you can open it to install Python. Click on Run, which will start the installation process. If you want to save the installation file in a different location, click on Customize installation; otherwise, continue with Install Now. Also, select the checkbox at the bottom to Add Python 3.7 to PATH. Once the installation is complete, the below pop-up box will appear: Setup was successful.\n",
    "\n",
    "The complete path of python.exe can be added by:\n",
    "\n",
    "1.Right-clicking This PC and going to Properties.\n",
    "\n",
    "2.Clicking on the Advanced system settings in the menu on the left.\n",
    "\n",
    "3.Clicking on the Environment Variables button o​n the bottom right.\n",
    "\n",
    "4.In the System variables section, selecting the Path variable and clicking on Edit. The next screen will show all the directories that are currently a part of the PATH variable.\n",
    "\n",
    "5.Clicking on New and entering Python’s install directory."
   ]
  },
  {
   "cell_type": "markdown",
   "id": "dc3d9657-6d1a-41ba-b195-75842d15b0e8",
   "metadata": {},
   "source": [
    "Q. 16. Is indentation required in python? "
   ]
  },
  {
   "cell_type": "code",
   "execution_count": null,
   "id": "cde4bb8a-722b-4e88-8e27-7351225ff73d",
   "metadata": {},
   "outputs": [],
   "source": []
  }
 ],
 "metadata": {
  "kernelspec": {
   "display_name": "Python 3 (ipykernel)",
   "language": "python",
   "name": "python3"
  },
  "language_info": {
   "codemirror_mode": {
    "name": "ipython",
    "version": 3
   },
   "file_extension": ".py",
   "mimetype": "text/x-python",
   "name": "python",
   "nbconvert_exporter": "python",
   "pygments_lexer": "ipython3",
   "version": "3.10.8"
  }
 },
 "nbformat": 4,
 "nbformat_minor": 5
}
