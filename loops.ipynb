{
 "cells": [
  {
   "cell_type": "markdown",
   "id": "9229d50b-a1d0-4a21-92bd-eff2f133f611",
   "metadata": {},
   "source": [
    "# ATM WITHDRAWAL- while loop"
   ]
  },
  {
   "cell_type": "code",
   "execution_count": 6,
   "id": "a30bb1c5-fe3c-40b1-a10e-0e93eb1425ab",
   "metadata": {
    "tags": []
   },
   "outputs": [
    {
     "name": "stdin",
     "output_type": "stream",
     "text": [
      "How much do you wat to withdraw 606\n"
     ]
    },
    {
     "name": "stdout",
     "output_type": "stream",
     "text": [
      "Please collect RS. 606\n"
     ]
    },
    {
     "name": "stdin",
     "output_type": "stream",
     "text": [
      "How much do you wat to withdraw 57\n"
     ]
    },
    {
     "name": "stdout",
     "output_type": "stream",
     "text": [
      "Please collect RS. 57\n"
     ]
    },
    {
     "name": "stdin",
     "output_type": "stream",
     "text": [
      "How much do you wat to withdraw 488\n"
     ]
    },
    {
     "name": "stdout",
     "output_type": "stream",
     "text": [
      "Insufficient balanace \n",
      "Available balance is 337\n"
     ]
    }
   ],
   "source": [
    "total_amt=1000\n",
    "while total_amt!=0:\n",
    "    req_amt=int(input(\"How much do you wat to withdraw\"))\n",
    "    if total_amt>=req_amt and req_amt!=0:\n",
    "        print(\"Please collect RS.\",req_amt)\n",
    "        total_amt=total_amt-req_amt\n",
    "    elif total_amt<req_amt:\n",
    "        print(f\"Insufficient balanace \\nAvailable balance is {total_amt}\")\n",
    "        break\n",
    "    elif req_amt==0:\n",
    "        print(\"Have a ice Day!\")\n",
    "        break"
   ]
  },
  {
   "cell_type": "markdown",
   "id": "7a78bb8c-82ac-45b3-86e8-37b2f1eda0af",
   "metadata": {},
   "source": [
    "# For loop"
   ]
  },
  {
   "cell_type": "code",
   "execution_count": 14,
   "id": "ca2e13d2-a054-47fe-9f11-0ae5c4a6730d",
   "metadata": {},
   "outputs": [
    {
     "name": "stdout",
     "output_type": "stream",
     "text": [
      "green is present\n",
      "total number is 4\n"
     ]
    }
   ],
   "source": [
    "test_list=[\"red\",\"blue\",\"green\",\"yellow\"]\n",
    "count1=0\n",
    "for i in test_list:\n",
    "    count1=count1+1\n",
    "    if i==\"green\":\n",
    "        print(\"green is present\")\n",
    "print(\"total number is\",count1)  \n",
    " \n",
    "  \n",
    "\n",
    "           \n",
    "           "
   ]
  },
  {
   "cell_type": "code",
   "execution_count": 18,
   "id": "60342d0d-fbab-4e01-a05e-8ee3c77ed1e0",
   "metadata": {},
   "outputs": [
    {
     "name": "stdout",
     "output_type": "stream",
     "text": [
      "1 6 11 16 21 26 31 36 41 46 51 56 61 66 71 76 81 86 91 96 1\n",
      "26\n",
      "51\n",
      "76\n",
      "101\n",
      "126\n",
      "151\n",
      "176\n"
     ]
    }
   ],
   "source": [
    "for i in range(1,100,5):\n",
    "    print(i,end=' ')\n",
    "for i in range(1,200,25):\n",
    "    print(i)"
   ]
  },
  {
   "cell_type": "code",
   "execution_count": 28,
   "id": "df82f00a-0192-422a-892d-df04fe3e26c7",
   "metadata": {},
   "outputs": [
    {
     "name": "stdin",
     "output_type": "stream",
     "text": [
      "How many line do you want? 5\n"
     ]
    },
    {
     "name": "stdout",
     "output_type": "stream",
     "text": [
      "*\n",
      "**\n",
      "***\n",
      "****\n",
      "*****\n"
     ]
    }
   ],
   "source": [
    "lines=int(input(\"How many line do you want?\"))\n",
    "for i in range(0,lines):\n",
    "    for j in range(0,i+1):\n",
    "        print(\"**\",end='')\n",
    "    print(\"\\r\")"
   ]
  },
  {
   "cell_type": "code",
   "execution_count": 29,
   "id": "ba0291b3-2464-42c0-a3be-d349e5fd5f83",
   "metadata": {},
   "outputs": [
    {
     "name": "stdin",
     "output_type": "stream",
     "text": [
      "How many line do you want? 5\n"
     ]
    },
    {
     "name": "stdout",
     "output_type": "stream",
     "text": [
      "**\n",
      "****\n",
      "******\n",
      "********\n",
      "**********\n"
     ]
    }
   ],
   "source": [
    "lines=int(input(\"How many line do you want?\"))\n",
    "for i in range(0,lines):\n",
    "    for j in range(0,i+1):\n",
    "        print(\"**\",end='')\n",
    "    print(\"\\r\")"
   ]
  },
  {
   "cell_type": "code",
   "execution_count": 30,
   "id": "f45c7d81-b082-4fe9-a732-56f5b72691e2",
   "metadata": {},
   "outputs": [
    {
     "name": "stdin",
     "output_type": "stream",
     "text": [
      "How many line do you want? 5\n"
     ]
    },
    {
     "name": "stdout",
     "output_type": "stream",
     "text": [
      "****\n",
      "***\n",
      "**\n",
      "*\n",
      "\n"
     ]
    }
   ],
   "source": [
    "lines=int(input(\"How many line do you want?\"))\n",
    "for i in range(lines,0,-1):\n",
    "    for j in range(0,i-1):\n",
    "        print(\"*\",end='')\n",
    "    print(\"\\r\")"
   ]
  },
  {
   "cell_type": "code",
   "execution_count": null,
   "id": "f4f4a0de-150c-4080-bb29-a88ec89b02ab",
   "metadata": {},
   "outputs": [],
   "source": []
  }
 ],
 "metadata": {
  "kernelspec": {
   "display_name": "Python 3 (ipykernel)",
   "language": "python",
   "name": "python3"
  },
  "language_info": {
   "codemirror_mode": {
    "name": "ipython",
    "version": 3
   },
   "file_extension": ".py",
   "mimetype": "text/x-python",
   "name": "python",
   "nbconvert_exporter": "python",
   "pygments_lexer": "ipython3",
   "version": "3.10.8"
  }
 },
 "nbformat": 4,
 "nbformat_minor": 5
}
