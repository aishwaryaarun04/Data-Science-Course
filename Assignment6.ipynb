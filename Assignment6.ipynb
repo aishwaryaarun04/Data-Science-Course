{
 "cells": [
  {
   "cell_type": "code",
   "execution_count": 1,
   "id": "bc3838ef-ea87-4d2b-bfe1-c864b1772201",
   "metadata": {},
   "outputs": [
    {
     "name": "stdout",
     "output_type": "stream",
     "text": [
      "Product of all numbers in the list: 0\n"
     ]
    }
   ],
   "source": [
    "def calculate_product(lst):\n",
    "    product=1\n",
    "    for i in lst:\n",
    "        if isinstance(i,list):\n",
    "            product*=calculate_product(i)\n",
    "        elif isinstance(i,dict):\n",
    "            product*=calculate_product(list(i.keys()))\n",
    "            product*=calculate_product(list(i.values()))\n",
    "        elif isinstance(i,(int,float)):\n",
    "            product*=i\n",
    "    return product \n",
    "list1 = [1, 2, 3, 4, [44, 55, 66, True], False, (34, 56, 78, 89, 34), {1, 2, 3, 3, 2, 1},\n",
    "         {1: 34, \"key2\": [55, 67, 78, 89], 4: (45, 22, 61, 34)}, [56, 'data science'], 'Machine Learning']\n",
    "flat_list = []\n",
    "for item in list1:\n",
    "    if isinstance(item, list) or isinstance(item, dict):\n",
    "        flat_list.extend(item)\n",
    "    else:\n",
    "        flat_list.append(item)\n",
    "\n",
    "result = calculate_product(flat_list)\n",
    "print(\"Product of all numbers in the list:\", result)"
   ]
  },
  {
   "cell_type": "code",
   "execution_count": 2,
   "id": "2745ccb4-9939-4699-8820-fa57801702b6",
   "metadata": {},
   "outputs": [],
   "source": [
    "#Q2."
   ]
  },
  {
   "cell_type": "code",
   "execution_count": 11,
   "id": "2542ce96-5090-470a-806a-2f35fcac5efe",
   "metadata": {},
   "outputs": [
    {
     "name": "stdout",
     "output_type": "stream",
     "text": [
      "The encrypted message is r$dzmg$gl$yvxlnv$z$wzgz$hxrvmgrhg.\n"
     ]
    }
   ],
   "source": [
    "def encrypt_msg(message):\n",
    "    encrypted_msg=\"\"\n",
    "    for char in message:\n",
    "        if char.isalpha():\n",
    "            e_char=chr(219-ord(char.lower()))\n",
    "            encrypted_msg+=e_char\n",
    "        elif char.isspace():\n",
    "            encrypted_msg+=\"$\"\n",
    "        else:\n",
    "            encrypted_msg+=char\n",
    "    return encrypted_msg\n",
    "\n",
    "Input_Sentence=\"I want to become a Data Scientist.\"\n",
    "final_msg=encrypt_msg(Input_Sentence)\n",
    "print(\"The encrypted message is\",final_msg)"
   ]
  },
  {
   "cell_type": "code",
   "execution_count": null,
   "id": "4dad9500-f679-48e4-8e31-2c7adbe5b0e5",
   "metadata": {},
   "outputs": [],
   "source": []
  }
 ],
 "metadata": {
  "kernelspec": {
   "display_name": "Python 3 (ipykernel)",
   "language": "python",
   "name": "python3"
  },
  "language_info": {
   "codemirror_mode": {
    "name": "ipython",
    "version": 3
   },
   "file_extension": ".py",
   "mimetype": "text/x-python",
   "name": "python",
   "nbconvert_exporter": "python",
   "pygments_lexer": "ipython3",
   "version": "3.10.8"
  }
 },
 "nbformat": 4,
 "nbformat_minor": 5
}
