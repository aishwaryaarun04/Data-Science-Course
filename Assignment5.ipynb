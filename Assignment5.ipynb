{
 "cells": [
  {
   "cell_type": "code",
   "execution_count": 23,
   "id": "c42c745a-2c75-483e-a99f-ed53c74f5cba",
   "metadata": {},
   "outputs": [],
   "source": [
    "#Q1. "
   ]
  },
  {
   "cell_type": "code",
   "execution_count": 2,
   "id": "7d287075-a736-4ef6-8fb7-ec51191494ed",
   "metadata": {},
   "outputs": [
    {
     "name": "stdin",
     "output_type": "stream",
     "text": [
      "Please eneter your percentage 86\n"
     ]
    },
    {
     "name": "stdout",
     "output_type": "stream",
     "text": [
      "You have scored Grade B\n"
     ]
    }
   ],
   "source": [
    "def grade_marks():\n",
    "    entered_marks=int(input(\"Please eneter your percentage\"))\n",
    "    if entered_marks <=100:\n",
    "        if entered_marks>90:\n",
    "            grade=\"A\"\n",
    "        elif entered_marks>80 and entered_marks<=90:\n",
    "            grade=\"B\"\n",
    "        elif entered_marks>60 and entered_marks<=80:\n",
    "            grade=\"C\"\n",
    "        else:\n",
    "            grade=\"D\"\n",
    "        print(f\"You have scored Grade\",grade)\n",
    "    else:\n",
    "        print(\"Invalid input\")\n",
    "        grade_marks()\n",
    "    \n",
    "grade_marks()    "
   ]
  },
  {
   "cell_type": "code",
   "execution_count": 6,
   "id": "3c534d30-c405-4a95-8581-ae32a5b65115",
   "metadata": {},
   "outputs": [],
   "source": [
    "#Q2."
   ]
  },
  {
   "cell_type": "code",
   "execution_count": 5,
   "id": "19ada126-c793-4975-b41b-2fa879ccfd4f",
   "metadata": {},
   "outputs": [
    {
     "name": "stdin",
     "output_type": "stream",
     "text": [
      "Please eneter the bike price 90000\n"
     ]
    },
    {
     "name": "stdout",
     "output_type": "stream",
     "text": [
      "The road tax to be paid is :  9000.0\n"
     ]
    }
   ],
   "source": [
    "def bike_tax():\n",
    "    bike_price=int(input(\"Please eneter the bike price\"))\n",
    "    if bike_price>0:\n",
    "        if bike_price>100000:\n",
    "            tax=0.15*bike_price\n",
    "        elif bike_price<=100000 and bike_price>50000:\n",
    "            tax=0.1*bike_price\n",
    "        elif bike_price<=50000:\n",
    "            tax=0.05*bike_price\n",
    "        print(\"The road tax to be paid is : \",tax)\n",
    "    else:\n",
    "        print(\"Enter a valid input\")\n",
    "        bike_tax()\n",
    "bike_tax()"
   ]
  },
  {
   "cell_type": "code",
   "execution_count": 7,
   "id": "87ed567e-a97e-4896-8ce3-ae377c9be96c",
   "metadata": {},
   "outputs": [],
   "source": [
    "#Q3."
   ]
  },
  {
   "cell_type": "code",
   "execution_count": 31,
   "id": "d711e497-a2a6-4101-85e8-414ab5316f2f",
   "metadata": {},
   "outputs": [
    {
     "name": "stdin",
     "output_type": "stream",
     "text": [
      "Please enter a city name lol\n"
     ]
    },
    {
     "name": "stdout",
     "output_type": "stream",
     "text": [
      "Enter a city name from the following: Delhi, Agra, Jaipur\n"
     ]
    },
    {
     "name": "stdin",
     "output_type": "stream",
     "text": [
      "Please enter a city name delhi\n"
     ]
    },
    {
     "name": "stdout",
     "output_type": "stream",
     "text": [
      "The monument in Delhi is Red Fort\n"
     ]
    }
   ],
   "source": [
    "def city_monuments():\n",
    "    city=input(\"Please enter a city name\")\n",
    "    monument=\"\"\n",
    "    if city.lower()==\"delhi\":\n",
    "        monument=\"Red Fort\"\n",
    "        print(\"The monument in\",city.title() ,\"is\" ,monument)\n",
    "    elif city.lower()==\"agra\":\n",
    "        monument=\"Taj Mahal\"\n",
    "        print(\"The monument in\",city.title() ,\"is\" ,monument)\n",
    "    elif city.lower()==\"jaipur\":\n",
    "        monument=\"Jal Mahal\"\n",
    "        print(\"The monument in\",city.title() ,\"is\" ,monument)\n",
    "    else:\n",
    "        print(\"Enter a city name from the following: Delhi, Agra, Jaipur\")\n",
    "        city_monuments()\n",
    "    \n",
    "city_monuments()  \n"
   ]
  },
  {
   "cell_type": "code",
   "execution_count": 32,
   "id": "14924c82-8156-486b-8380-1da9fa511fef",
   "metadata": {},
   "outputs": [],
   "source": [
    "#Q4."
   ]
  },
  {
   "cell_type": "code",
   "execution_count": 38,
   "id": "96897771-d00a-4c84-83a3-a1cfe36f438b",
   "metadata": {},
   "outputs": [
    {
     "name": "stdin",
     "output_type": "stream",
     "text": [
      "Enter a number 9999\n"
     ]
    },
    {
     "name": "stdout",
     "output_type": "stream",
     "text": [
      "The total number of times no. is divisible by 3 while greater than or equal to 10 is: 7\n"
     ]
    }
   ],
   "source": [
    "def divison_three():\n",
    "    num=int(input(\"Enter a number\"))\n",
    "    count=0\n",
    "    while num>10:\n",
    "        num=num/3 \n",
    "        count+=1\n",
    "    print(\"The total number of times no. is divisible by 3 while greater than or equal to 10 is:\",count)\n",
    "divison_three()"
   ]
  },
  {
   "cell_type": "code",
   "execution_count": 39,
   "id": "9a679988-877d-491b-9821-f3dfce16fcfe",
   "metadata": {},
   "outputs": [],
   "source": [
    "#Q5."
   ]
  },
  {
   "cell_type": "markdown",
   "id": "2e80a787-6b80-41ff-8ffe-21e3c5972641",
   "metadata": {},
   "source": [
    "Ans. While loop statements in Python are used to repeatedly execute a certain statement as long as the condition provided in the while loop statement stays true. While loops let the program control to iterate over a block of code.\n",
    "\n",
    " While loop is used when the number of iterations is unknown."
   ]
  },
  {
   "cell_type": "code",
   "execution_count": 2,
   "id": "8acd44f3-e2bc-4f88-96d0-9759cc45e123",
   "metadata": {},
   "outputs": [
    {
     "name": "stdin",
     "output_type": "stream",
     "text": [
      "Enter a number 5\n"
     ]
    },
    {
     "name": "stdout",
     "output_type": "stream",
     "text": [
      "The final answer is 5120\n"
     ]
    }
   ],
   "source": [
    "numb=int(input(\"Enter a number\"))\n",
    "count=0\n",
    "while count<10:\n",
    "    numb=numb*2\n",
    "    count=count+1\n",
    "print(\"The final answer is\",numb)"
   ]
  },
  {
   "cell_type": "code",
   "execution_count": 3,
   "id": "628c425b-40c4-4417-ab39-15344f4ad941",
   "metadata": {},
   "outputs": [],
   "source": [
    "#Q6."
   ]
  },
  {
   "cell_type": "code",
   "execution_count": 13,
   "id": "e23c329a-4557-41fd-84de-fe0e5d41f666",
   "metadata": {},
   "outputs": [
    {
     "name": "stdout",
     "output_type": "stream",
     "text": [
      "#\n",
      "##\n",
      "###\n",
      "####\n",
      "#####\n"
     ]
    }
   ],
   "source": [
    "row = 1\n",
    "while row <= 5:\n",
    "    col = 1\n",
    "    while col <= row:\n",
    "        print(\"#\", end='')\n",
    "        col += 1\n",
    "    print()\n",
    "    row += 1"
   ]
  },
  {
   "cell_type": "code",
   "execution_count": 14,
   "id": "93813bc9-a351-4914-93c6-30113757fcf8",
   "metadata": {},
   "outputs": [
    {
     "name": "stdout",
     "output_type": "stream",
     "text": [
      "*****\n",
      "****\n",
      "***\n",
      "**\n",
      "*\n"
     ]
    }
   ],
   "source": [
    "row=5\n",
    "while row>=1:\n",
    "    column=1\n",
    "    while column<=row:\n",
    "        print(\"*\",end=\"\")\n",
    "        column+=1\n",
    "    print()\n",
    "    row=row-1"
   ]
  },
  {
   "cell_type": "code",
   "execution_count": 1,
   "id": "c321ee8e-302b-45e8-b1c1-e92052efd695",
   "metadata": {},
   "outputs": [
    {
     "name": "stdin",
     "output_type": "stream",
     "text": [
      "Enter the number of rows for the pyramid:  5\n"
     ]
    },
    {
     "name": "stdout",
     "output_type": "stream",
     "text": [
      "    *\n",
      "   ***\n",
      "  *****\n",
      " *******\n",
      "*********\n"
     ]
    }
   ],
   "source": [
    "rows = int(input(\"Enter the number of rows for the pyramid: \"))\n",
    "\n",
    "i = 0\n",
    "while i < rows:\n",
    "    spaces = rows - i - 1\n",
    "    asterisks = 2 * i + 1\n",
    "\n",
    "    # Print spaces in decreasing order\n",
    "    j = 0\n",
    "    while j < spaces:\n",
    "        print(\" \", end=\"\")\n",
    "        j += 1\n",
    "\n",
    "    # Print asterisks in increasing order\n",
    "    j = 0\n",
    "    while j < asterisks:\n",
    "        print(\"*\", end=\"\")\n",
    "        j += 1\n",
    "\n",
    "    print()\n",
    "    i += 1"
   ]
  },
  {
   "cell_type": "code",
   "execution_count": 2,
   "id": "1c3ca97d-335f-43cb-82f5-cfb116bb633c",
   "metadata": {},
   "outputs": [],
   "source": [
    "#Q7."
   ]
  },
  {
   "cell_type": "code",
   "execution_count": 3,
   "id": "c5b0d361-71d5-4d16-bfa8-dc13977454d5",
   "metadata": {},
   "outputs": [
    {
     "name": "stdout",
     "output_type": "stream",
     "text": [
      "10\n",
      "9\n",
      "8\n",
      "7\n",
      "6\n",
      "5\n",
      "4\n",
      "3\n",
      "2\n",
      "1\n"
     ]
    }
   ],
   "source": [
    "num=10\n",
    "while num>=1:\n",
    "    print(num)\n",
    "    num-=1"
   ]
  },
  {
   "cell_type": "code",
   "execution_count": null,
   "id": "9d436cbc-0262-45d8-8135-0028e199ba34",
   "metadata": {},
   "outputs": [],
   "source": []
  }
 ],
 "metadata": {
  "kernelspec": {
   "display_name": "Python 3 (ipykernel)",
   "language": "python",
   "name": "python3"
  },
  "language_info": {
   "codemirror_mode": {
    "name": "ipython",
    "version": 3
   },
   "file_extension": ".py",
   "mimetype": "text/x-python",
   "name": "python",
   "nbconvert_exporter": "python",
   "pygments_lexer": "ipython3",
   "version": "3.10.8"
  }
 },
 "nbformat": 4,
 "nbformat_minor": 5
}
