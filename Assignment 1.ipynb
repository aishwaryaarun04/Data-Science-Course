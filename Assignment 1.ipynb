{
 "cells": [
  {
   "cell_type": "markdown",
   "id": "1ffaf95e-ab0f-49c7-ac5f-bd329742315d",
   "metadata": {},
   "source": [
    "Q1. What are the characteristics of the tuples? Is tuple immutable?"
   ]
  },
  {
   "cell_type": "markdown",
   "id": "e520a112-0964-4635-94d2-a35ed866b834",
   "metadata": {},
   "source": [
    "Ans. Characteristics of tuples:\n",
    "1.They are indexed.\n",
    "2.Tuples are ordered.\n",
    "3.They can contain duplicate items.\n",
    "The are immutable"
   ]
  },
  {
   "cell_type": "markdown",
   "id": "46516224-d340-402c-8153-54a428e4f440",
   "metadata": {},
   "source": [
    "Q2. What are the two tuple methods in python? Give an example of each method. Give a reason why\n",
    "tuples have only two in-built methods as compared to Lists."
   ]
  },
  {
   "cell_type": "markdown",
   "id": "b9d1ed22-bc57-4cd0-a57a-c67f147cfa2c",
   "metadata": {},
   "source": [
    "Ans. The two tuple methods in python are \"count\" and \"index\". "
   ]
  },
  {
   "cell_type": "code",
   "execution_count": 10,
   "id": "4303ffa6-5ad8-4baa-bf12-7b47983503af",
   "metadata": {},
   "outputs": [
    {
     "name": "stdout",
     "output_type": "stream",
     "text": [
      "1\n",
      "1\n"
     ]
    }
   ],
   "source": [
    "t1=(\"apple\",\"mango\",\"cherry\")\n",
    "type(t1)\n",
    "count1=t1.count(\"apple\")\n",
    "index1=t1.index(\"mango\")\n",
    "print(count1)\n",
    "print(index1)"
   ]
  },
  {
   "cell_type": "markdown",
   "id": "1f3d2a8f-2497-4f54-9c86-9db19e1c0f47",
   "metadata": {},
   "source": [
    "As a tuple is an immutable data structure in python. Elements of Tuple cannot be modified once they are created. Because of this, there are only a limited number of methods available for working with tuples."
   ]
  },
  {
   "cell_type": "markdown",
   "id": "5551e161-6fec-4d13-80b7-aa159485d5c2",
   "metadata": {},
   "source": [
    "Q3. Which collection datatypes in python do not allow duplicate items? Write a code using a set to remove\n",
    "duplicates from the given list."
   ]
  },
  {
   "cell_type": "markdown",
   "id": "27061d75-7889-4411-8e05-aeccb9804194",
   "metadata": {},
   "source": [
    "Ans.  Sets are collection datatypes in python that do not allow duplicate items."
   ]
  },
  {
   "cell_type": "code",
   "execution_count": 11,
   "id": "58131ce9-16b1-4264-a725-435efdb85d74",
   "metadata": {},
   "outputs": [
    {
     "name": "stdout",
     "output_type": "stream",
     "text": [
      "['Apple', 'Mango', 'Cherry', 'Mango']\n",
      "{'Apple', 'Mango', 'Cherry'}\n"
     ]
    }
   ],
   "source": [
    "list1=[\"Apple\",\"Mango\",\"Cherry\",\"Mango\"]\n",
    "print(list1)\n",
    "set_list1=set(list1)\n",
    "print(set_list1)"
   ]
  },
  {
   "cell_type": "markdown",
   "id": "545b90d3-6a9c-4be8-92f9-20a9fc255235",
   "metadata": {},
   "source": [
    "Q4. Explain the difference between the union() and update() methods for a set. Give an example of\n",
    "each method."
   ]
  },
  {
   "cell_type": "markdown",
   "id": "e5975011-b10f-4f70-82b6-56e91b502eeb",
   "metadata": {},
   "source": [
    "Union method returns a set that contains all items from both sets, and duplicates are excluded.\n",
    "Update method adds all missing elements to the set on which it is called.\n"
   ]
  },
  {
   "cell_type": "code",
   "execution_count": 24,
   "id": "66af3ca8-422b-4a84-934f-363aa84d3e2e",
   "metadata": {},
   "outputs": [
    {
     "name": "stdout",
     "output_type": "stream",
     "text": [
      "Union of A and B :  {1, 2, 3, 4, 5, 6, 7, 8, 9, 10}\n",
      "Union of B and A :  {1, 2, 3, 4, 5, 6, 7, 8, 9, 10}\n",
      "Upadate of A with B :  {1, 2, 3, 4, 5, 6, 7, 8, 9, 10}\n",
      "Upadate of B with A :  {1, 2, 3, 4, 5, 6, 7, 8, 9, 10}\n"
     ]
    }
   ],
   "source": [
    "set_a={1,2,3,4,5,6}\n",
    "set_b={5,6,7,8,9,10}\n",
    "set_union1=set_a.union(set_b)\n",
    "set_union2=set_b.union(set_a)\n",
    "set_update1=set_a|set_b\n",
    "set_update2=set_b|set_a\n",
    "print(\"Union of A and B : \",set_union1)\n",
    "print(\"Union of B and A : \",set_union2)\n",
    "print(\"Upadate of A with B : \",set_update1)\n",
    "print(\"Upadate of B with A : \",set_update2)"
   ]
  },
  {
   "cell_type": "markdown",
   "id": "02ccadfc-6dfe-4a07-a733-2862535328dd",
   "metadata": {},
   "source": [
    "Q5. What is a dictionary? Give an example. Also, state whether a dictionary is ordered or unordered."
   ]
  },
  {
   "cell_type": "markdown",
   "id": "3a80d4de-5278-478e-bcc2-031238dc5495",
   "metadata": {},
   "source": [
    "Ans. The dictionary is an unordered collection that contains key:value pairs separated by commas inside curly brackets."
   ]
  },
  {
   "cell_type": "code",
   "execution_count": 26,
   "id": "19dcb717-cdcb-4759-81ae-4b4792f3a497",
   "metadata": {},
   "outputs": [
    {
     "data": {
      "text/plain": [
       "dict"
      ]
     },
     "execution_count": 26,
     "metadata": {},
     "output_type": "execute_result"
    }
   ],
   "source": [
    "dictionary_test={\"Name\":\"Tom\",\"Age\":35,\"Gender\":\"Male\",\"Company\":\"ABC\"}\n",
    "type(dict_test)"
   ]
  },
  {
   "cell_type": "markdown",
   "id": "ec2168e0-6a89-4891-9f9a-2380e1916dfa",
   "metadata": {},
   "source": [
    "Q6. Can we create a nested dictionary? If so, please give an example by creating a simple one-level\n",
    "nested dictionary."
   ]
  },
  {
   "cell_type": "markdown",
   "id": "f53d73f8-4cf3-4db6-b566-b9dc396c9041",
   "metadata": {},
   "source": [
    "Ans. Yes,  we can create a nested dictionary."
   ]
  },
  {
   "cell_type": "code",
   "execution_count": 27,
   "id": "1d64ef0b-faf2-4007-b727-ca4129b94f45",
   "metadata": {},
   "outputs": [
    {
     "data": {
      "text/plain": [
       "dict"
      ]
     },
     "execution_count": 27,
     "metadata": {},
     "output_type": "execute_result"
    }
   ],
   "source": [
    "things={\"Fruit\":{\"Apple\":\"Red\",\"Pear\":\"Yellow\",\"Grapes\":\"Green\"},\"Vegetables\":\"Tomato\",\"Dairy\":\"Milk\"}\n",
    "type(things)"
   ]
  },
  {
   "cell_type": "markdown",
   "id": "0fd28702-f8e8-49ac-984e-a45efb4a43d2",
   "metadata": {},
   "source": [
    "Q7. Using setdefault() method, create key named topics in the given dictionary and also add the value of\n",
    "the key as this list ['Python', 'Machine Learning’, 'Deep Learning']\n",
    "dict1 = {'language' : 'Python', 'course': 'Data Science Masters'}\n",
    "print(dict1"
   ]
  },
  {
   "cell_type": "code",
   "execution_count": null,
   "id": "c914f2d1-8972-40ef-bb6e-58ea8edc6587",
   "metadata": {},
   "outputs": [],
   "source": []
  },
  {
   "cell_type": "code",
   "execution_count": 32,
   "id": "a46bee3c-2eb0-40a5-b598-d92e2b9c9798",
   "metadata": {},
   "outputs": [
    {
     "name": "stdout",
     "output_type": "stream",
     "text": [
      "{'language': 'Python', 'course': 'Data Science Masters', 'Topics': \"['Python', 'Machine Learning’,'Deep Learning']\"}\n"
     ]
    }
   ],
   "source": [
    "dict1 = {'language' : 'Python', 'course': 'Data Science Masters'}\n",
    "dict1.setdefault(\"Topics\",\"['Python', 'Machine Learning’,'Deep Learning']\")\n",
    "print(dict1)"
   ]
  },
  {
   "cell_type": "markdown",
   "id": "93aa0d1d-df89-44eb-acc5-1fe46fabdf7f",
   "metadata": {},
   "source": [
    "Q8. What are the three view objects in dictionaries? Use the three in-built methods in python to display\n",
    "these three view objects for the given dictionary.\n",
    "dict1 = {'Sport': 'Cricket' , 'Teams': ['India', 'Australia', 'England', 'South Africa', 'Sri Lanka', 'New Zealand']}"
   ]
  },
  {
   "cell_type": "markdown",
   "id": "ef941ae6-891c-42d2-872f-6374249ade5b",
   "metadata": {},
   "source": [
    "the three view objects in dictionaries"
   ]
  }
 ],
 "metadata": {
  "kernelspec": {
   "display_name": "Python 3 (ipykernel)",
   "language": "python",
   "name": "python3"
  },
  "language_info": {
   "codemirror_mode": {
    "name": "ipython",
    "version": 3
   },
   "file_extension": ".py",
   "mimetype": "text/x-python",
   "name": "python",
   "nbconvert_exporter": "python",
   "pygments_lexer": "ipython3",
   "version": "3.10.8"
  }
 },
 "nbformat": 4,
 "nbformat_minor": 5
}
