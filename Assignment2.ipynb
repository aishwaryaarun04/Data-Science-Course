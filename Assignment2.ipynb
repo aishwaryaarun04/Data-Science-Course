{
 "cells": [
  {
   "cell_type": "markdown",
   "id": "2396278e-03d7-4385-bb90-77bf6514c7c8",
   "metadata": {},
   "source": [
    "Q1. Which keyword is used to create a function? Create a function to return a list of odd numbers in the\n",
    "range of 1 to 25."
   ]
  },
  {
   "cell_type": "markdown",
   "id": "29ddf2bf-fb5b-4621-aa3e-d1c3dec36f83",
   "metadata": {},
   "source": [
    "Ans. The \"def\" keyword is used to create a function.\n",
    "eg. def function_name(argument)"
   ]
  },
  {
   "cell_type": "code",
   "execution_count": 7,
   "id": "f66cd929-fd41-4964-ac9b-f5753d04e220",
   "metadata": {},
   "outputs": [],
   "source": [
    "def odd_num():\n",
    "    odd_list=[]\n",
    "    for i in range(1,26):\n",
    "        if i%2!=0:\n",
    "            odd_list.append(i)\n",
    "    return odd_list"
   ]
  },
  {
   "cell_type": "code",
   "execution_count": 8,
   "id": "5fb4dcd9-ce0f-4cb6-b8eb-153b6b267c2b",
   "metadata": {},
   "outputs": [
    {
     "data": {
      "text/plain": [
       "[1, 3, 5, 7, 9, 11, 13, 15, 17, 19, 21, 23, 25]"
      ]
     },
     "execution_count": 8,
     "metadata": {},
     "output_type": "execute_result"
    }
   ],
   "source": [
    "odd_num()"
   ]
  },
  {
   "cell_type": "markdown",
   "id": "97f4d6ff-64df-4e93-ab2c-8a553057e008",
   "metadata": {},
   "source": [
    "Q2. Why *args and **kwargs is used in some functions? Create a function each for *args and **kwargs to\n",
    "demonstrate their use."
   ]
  },
  {
   "cell_type": "markdown",
   "id": "c362a1d7-2e07-4055-8d25-f238d712eb3a",
   "metadata": {},
   "source": [
    "Ans. *args is used to allow multiple arguments to pe passes to a function and **kwargs is used to accept only dictionary format for the argument, i.e., in the form of keys and values."
   ]
  },
  {
   "cell_type": "code",
   "execution_count": 9,
   "id": "ca088450-4268-4b47-8c49-67ce24af9ebb",
   "metadata": {},
   "outputs": [
    {
     "data": {
      "text/plain": [
       "(1, 2, 3, 4, 5, 'a', 'b', 'c', 'd', [6, 7, 8, 9])"
      ]
     },
     "execution_count": 9,
     "metadata": {},
     "output_type": "execute_result"
    }
   ],
   "source": [
    "def test(*args):\n",
    "    return args\n",
    "test(1,2,3,4,5,\"a\",\"b\",\"c\",\"d\",[6,7,8,9])"
   ]
  },
  {
   "cell_type": "code",
   "execution_count": 12,
   "id": "b4a137cd-53f5-4d43-afb9-7d3455b0d8eb",
   "metadata": {},
   "outputs": [
    {
     "data": {
      "text/plain": [
       "{'a1': 'a', 'a2': 'b', 'a3': 'c', 'a4': 'd', 'a5': 'e', 'a6': [6, 7, 8, 9]}"
      ]
     },
     "execution_count": 12,
     "metadata": {},
     "output_type": "execute_result"
    }
   ],
   "source": [
    "def test(**kwargs):\n",
    "    return kwargs\n",
    "test(a1=\"a\",a2=\"b\",a3=\"c\",a4=\"d\",a5=\"e\",a6=[6,7,8,9])"
   ]
  },
  {
   "cell_type": "markdown",
   "id": "cb83498a-0656-4043-99bf-2e3578305f66",
   "metadata": {},
   "source": [
    "Q3. What is an iterator in python? Name the method used to initialise the iterator object and the method\n",
    "used for iteration. Use these methods to print the first five elements of the given list [2, 4, 6, 8,10, 12, 14, 16,18, 20]."
   ]
  },
  {
   "cell_type": "markdown",
   "id": "fd67cbc6-58e3-410a-a23e-d8990420e818",
   "metadata": {},
   "source": [
    "Ans. In Python, an iterator is an object that allows you to through each of the collections of data, such as lists, tuples, dictionaries, and sets. Technically, in Python, an iterator is an object which implements the iterator protocol, which consist of the methods __iter__() and __next__()."
   ]
  },
  {
   "cell_type": "code",
   "execution_count": 15,
   "id": "b39b470f-473a-4885-b62b-36240ac72c80",
   "metadata": {},
   "outputs": [
    {
     "name": "stdout",
     "output_type": "stream",
     "text": [
      "2\n",
      "4\n",
      "6\n",
      "8\n",
      "10\n"
     ]
    }
   ],
   "source": [
    "list1=[2, 4, 6, 8,10, 12, 14, 16,18, 20]\n",
    "for i in list1:\n",
    "    while i<list1[5]:\n",
    "        print(i)\n",
    "        break\n",
    "    "
   ]
  },
  {
   "cell_type": "code",
   "execution_count": 9,
   "id": "bb3f8b88-fc93-4ed4-ac8e-d2281704544b",
   "metadata": {},
   "outputs": [],
   "source": [
    "list1=[2, 4, 6, 8,10, 12, 14, 16,18, 20]\n",
    "myiter=iter(list1)"
   ]
  },
  {
   "cell_type": "code",
   "execution_count": 10,
   "id": "43365e9a-46f3-4c5f-abd0-b76b04f9695d",
   "metadata": {},
   "outputs": [
    {
     "name": "stdout",
     "output_type": "stream",
     "text": [
      "2\n",
      "4\n",
      "6\n",
      "8\n",
      "10\n"
     ]
    }
   ],
   "source": [
    "n=1\n",
    "while n<6:\n",
    "    print(next(myiter))\n",
    "    n=n+1"
   ]
  },
  {
   "cell_type": "markdown",
   "id": "14acf37d-0ea9-47da-8a48-71eceb7edbb3",
   "metadata": {},
   "source": [
    "Q4. What is a generator function in python? Why yield keyword is used? Give an example of a generator\n",
    "function."
   ]
  },
  {
   "cell_type": "markdown",
   "id": "7669f419-eeb2-4ed3-b975-4115bfccf2be",
   "metadata": {},
   "source": [
    "Ans.  A generator is a function that returns an iterator that produces a sequence of values when iterated over. Generators are useful when we want to produce a large sequence of values, but we don't want to store all of them in memory at once.\n",
    "When you use a yield keyword inside a generator function, it returns a generator object instead of values. In fact, it stores all the returned values inside this generator object in a local state. If you have used the return statement, which returned an array of values, this would have consumed a lot of memory."
   ]
  },
  {
   "cell_type": "code",
   "execution_count": 11,
   "id": "d5141ded-1d04-40e1-aa63-28ea67ea67cb",
   "metadata": {},
   "outputs": [
    {
     "name": "stdout",
     "output_type": "stream",
     "text": [
      "[1, 3, 5, 7, 9]\n"
     ]
    }
   ],
   "source": [
    "def odd_generator_func(n):\n",
    "    for i in range(n+1):\n",
    "        if i%2!=0:\n",
    "            yield i\n",
    "list1=[]\n",
    "for i in odd_generator_func(10):\n",
    "    list1.append(i)\n",
    "print(list1)\n",
    "            "
   ]
  },
  {
   "cell_type": "markdown",
   "id": "942b8438-76da-45f1-91c6-e79d082bc92e",
   "metadata": {},
   "source": [
    "Q5. Create a generator function for prime numbers less than 1000. Use the next() method to print the\n",
    "first 20 prime numbers."
   ]
  },
  {
   "cell_type": "code",
   "execution_count": 5,
   "id": "6a9a3491-d9e3-4e0f-abb3-fa7265a5e5a7",
   "metadata": {},
   "outputs": [
    {
     "name": "stdout",
     "output_type": "stream",
     "text": [
      "2 3 5 7 11 13 17 19 23 29 31 37 41 43 47 53 59 61 67 71 "
     ]
    }
   ],
   "source": [
    "def prime_generator_func(n):\n",
    "    if n==0 or n==1:\n",
    "        return False\n",
    "    for i in range(2,n):\n",
    "        if n%i==0:\n",
    "            return False\n",
    "            \n",
    "    return True\n",
    "\n",
    "N=1000\n",
    "list1=[]\n",
    "for i in range(1,N+1):\n",
    "    if (prime_generator_func(i)):\n",
    "        list1.append(i)\n",
    "myiter=iter(list1)\n",
    "n=1\n",
    "while n<21:\n",
    "    print(next(myiter),end=\" \")\n",
    "    n=n+1          "
   ]
  },
  {
   "cell_type": "code",
   "execution_count": 10,
   "id": "1e528842-1999-4721-aead-508a937c2418",
   "metadata": {},
   "outputs": [],
   "source": []
  },
  {
   "cell_type": "code",
   "execution_count": null,
   "id": "b620eb9d-7c0d-4de5-b8ce-2dfa14923e2d",
   "metadata": {},
   "outputs": [],
   "source": []
  }
 ],
 "metadata": {
  "kernelspec": {
   "display_name": "Python 3 (ipykernel)",
   "language": "python",
   "name": "python3"
  },
  "language_info": {
   "codemirror_mode": {
    "name": "ipython",
    "version": 3
   },
   "file_extension": ".py",
   "mimetype": "text/x-python",
   "name": "python",
   "nbconvert_exporter": "python",
   "pygments_lexer": "ipython3",
   "version": "3.10.8"
  }
 },
 "nbformat": 4,
 "nbformat_minor": 5
}
