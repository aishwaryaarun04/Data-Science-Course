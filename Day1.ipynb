{
 "cells": [
  {
   "cell_type": "code",
   "execution_count": 1,
   "id": "cdef79b8-dd6b-431d-a850-bbef97275f67",
   "metadata": {},
   "outputs": [
    {
     "name": "stdout",
     "output_type": "stream",
     "text": [
      "22\n"
     ]
    }
   ],
   "source": [
    "a=10\n",
    "b=12\n",
    "print(a+b)\n"
   ]
  },
  {
   "cell_type": "markdown",
   "id": "50ccfb9f-8494-435a-867b-8cac76628eab",
   "metadata": {},
   "source": [
    "#hello"
   ]
  },
  {
   "cell_type": "markdown",
   "id": "2ee2e944-a1ac-43e4-86b4-108d7faf9065",
   "metadata": {},
   "source": [
    "# heelllo\n"
   ]
  },
  {
   "cell_type": "code",
   "execution_count": 2,
   "id": "0ef7749e-8b4b-4764-97a0-a56ef4da8eac",
   "metadata": {},
   "outputs": [
    {
     "data": {
      "text/plain": [
       "bool"
      ]
     },
     "execution_count": 2,
     "metadata": {},
     "output_type": "execute_result"
    }
   ],
   "source": [
    "type(True)\n"
   ]
  },
  {
   "cell_type": "code",
   "execution_count": 3,
   "id": "c297b075-6567-4133-8f2d-415809cbb62a",
   "metadata": {},
   "outputs": [
    {
     "data": {
      "text/plain": [
       "False"
      ]
     },
     "execution_count": 3,
     "metadata": {},
     "output_type": "execute_result"
    }
   ],
   "source": [
    "bool(0)\n"
   ]
  },
  {
   "cell_type": "code",
   "execution_count": 5,
   "id": "aa457c2a-6403-4e6e-9564-fa928953e76d",
   "metadata": {},
   "outputs": [
    {
     "data": {
      "text/plain": [
       "True"
      ]
     },
     "execution_count": 5,
     "metadata": {},
     "output_type": "execute_result"
    }
   ],
   "source": [
    "bool(1)"
   ]
  },
  {
   "cell_type": "code",
   "execution_count": 6,
   "id": "45d6c8c9-9cc8-42b8-9fe2-0906eae4af59",
   "metadata": {},
   "outputs": [
    {
     "data": {
      "text/plain": [
       "True"
      ]
     },
     "execution_count": 6,
     "metadata": {},
     "output_type": "execute_result"
    }
   ],
   "source": [
    "bool(2)\n"
   ]
  },
  {
   "cell_type": "code",
   "execution_count": null,
   "id": "5c67225c-aa00-43b1-b13b-8aad80efb74c",
   "metadata": {},
   "outputs": [],
   "source": [
    "a=30\n",
    "print(\"My age is\",a)"
   ]
  },
  {
   "cell_type": "code",
   "execution_count": 7,
   "id": "c7ff1c73-ad33-4aed-82d7-aced6a5715bb",
   "metadata": {},
   "outputs": [
    {
     "name": "stdout",
     "output_type": "stream",
     "text": [
      "30\n"
     ]
    }
   ],
   "source": [
    "age=30\n",
    "print(age)"
   ]
  },
  {
   "cell_type": "code",
   "execution_count": 11,
   "id": "91fd6223-de09-4883-b997-540620c35ecf",
   "metadata": {},
   "outputs": [
    {
     "name": "stdout",
     "output_type": "stream",
     "text": [
      "My age is 30\n"
     ]
    }
   ],
   "source": [
    "print(f\"My age is {age}\")"
   ]
  },
  {
   "cell_type": "code",
   "execution_count": 25,
   "id": "fa36f9a4-7576-47cf-92a0-a9f3d17a4725",
   "metadata": {},
   "outputs": [],
   "source": [
    "name=\"Aishwarya\"\n",
    "degree=\"M.Tech\"\n"
   ]
  },
  {
   "cell_type": "code",
   "execution_count": 14,
   "id": "4db116fd-6346-49c3-b566-e860a6ec2dfc",
   "metadata": {},
   "outputs": [
    {
     "name": "stdout",
     "output_type": "stream",
     "text": [
      "My name is Aishwarya and my age is 30\n"
     ]
    }
   ],
   "source": [
    "print(\"My name is {} and my age is {}\".format(name,age))"
   ]
  },
  {
   "cell_type": "code",
   "execution_count": 15,
   "id": "6c336eef-c593-47d0-94c3-a3edf460e1ea",
   "metadata": {},
   "outputs": [
    {
     "name": "stdout",
     "output_type": "stream",
     "text": [
      "My name is Aishwarya and my age is 30\n"
     ]
    }
   ],
   "source": [
    "print(\"My name is {c} and my age is {d}\".format(c=name,d=age))"
   ]
  },
  {
   "cell_type": "code",
   "execution_count": 21,
   "id": "7957aeb4-013d-4fe6-8dad-bd5b27c46d68",
   "metadata": {
    "tags": []
   },
   "outputs": [
    {
     "name": "stdout",
     "output_type": "stream",
     "text": [
      "My name is Aishwarya\n",
      "My age is 30\n"
     ]
    }
   ],
   "source": [
    "print(\"My name is\",name) \n",
    "print(\"My age is\",age)\n"
   ]
  },
  {
   "cell_type": "code",
   "execution_count": 27,
   "id": "ad54d5d3-9f63-4068-9c21-32536442d4c5",
   "metadata": {},
   "outputs": [
    {
     "name": "stdout",
     "output_type": "stream",
     "text": [
      "My name is Aishwarya, I have completed my M.Tech and my age is 30\n"
     ]
    }
   ],
   "source": [
    "print(f\"My name is {name}, I have completed my {degree} and my age is {age}\")"
   ]
  },
  {
   "cell_type": "code",
   "execution_count": 28,
   "id": "7a1c85d7-4e8a-4102-88ca-2477251117f9",
   "metadata": {},
   "outputs": [
    {
     "name": "stdout",
     "output_type": "stream",
     "text": [
      "My name is Aishwarya, I have completed my M.Tech and my age is 30\n"
     ]
    }
   ],
   "source": [
    "print(\"My name is {}, I have completed my {} and my age is {}\".format(name,degree,age))"
   ]
  },
  {
   "cell_type": "code",
   "execution_count": 31,
   "id": "754cf95c-ac75-4b8c-aeea-ce38bf6c3dcd",
   "metadata": {},
   "outputs": [
    {
     "name": "stdout",
     "output_type": "stream",
     "text": [
      "You can Vote\n"
     ]
    }
   ],
   "source": [
    "if age>=18:\n",
    "    print(\"You can Vote\")\n",
    "else:\n",
    "    print(\"you ca'y vote\")"
   ]
  },
  {
   "cell_type": "code",
   "execution_count": 32,
   "id": "4eddaf4d-175f-4906-89c2-d1197aba714b",
   "metadata": {},
   "outputs": [
    {
     "name": "stdin",
     "output_type": "stream",
     "text": [
      "What is yout name? Aishwarya\n"
     ]
    }
   ],
   "source": [
    "name=input(\"What is yout name?\")"
   ]
  },
  {
   "cell_type": "code",
   "execution_count": 33,
   "id": "a423428b-a86b-4fc4-bc19-b8697f1b8ed6",
   "metadata": {},
   "outputs": [
    {
     "name": "stdin",
     "output_type": "stream",
     "text": [
      "What is your age? 30\n"
     ]
    }
   ],
   "source": [
    "age=int(input(\"What is your age?\"))"
   ]
  },
  {
   "cell_type": "code",
   "execution_count": 34,
   "id": "c8509aa8-f5bb-4654-b651-740a5aa42ec6",
   "metadata": {},
   "outputs": [
    {
     "name": "stdout",
     "output_type": "stream",
     "text": [
      "My name is Aishwarya, I have completed my M.Tech and my age is 30\n"
     ]
    }
   ],
   "source": [
    "print(\"My name is {}, I have completed my {} and my age is {}\".format(name,degree,age))"
   ]
  },
  {
   "cell_type": "code",
   "execution_count": 35,
   "id": "fe8fc53f-c82b-4907-8670-5857b36e38ab",
   "metadata": {},
   "outputs": [
    {
     "name": "stdout",
     "output_type": "stream",
     "text": [
      "Your are Young\n"
     ]
    }
   ],
   "source": [
    "if age>=18 and age <=45:\n",
    "    print(\"Your are Young\")"
   ]
  },
  {
   "cell_type": "code",
   "execution_count": 37,
   "id": "46eaa572-d4cb-4d01-bcca-01744ed1f4ed",
   "metadata": {},
   "outputs": [
    {
     "name": "stdin",
     "output_type": "stream",
     "text": [
      "What is your age? 67\n"
     ]
    },
    {
     "name": "stdout",
     "output_type": "stream",
     "text": [
      "You are a little old\n"
     ]
    }
   ],
   "source": [
    "age=int(input(\"What is your age?\"))\n",
    "if age>=18 and age <=45:\n",
    "    print(\"Your are Young\")\n",
    "elif age>=45 and age <=70:\n",
    "    print(\"You are a little old\")\n",
    "else:\n",
    "          print(\"You are old\")"
   ]
  },
  {
   "cell_type": "code",
   "execution_count": 38,
   "id": "1c47a3ef-49df-4cc5-b167-1726c4c1baba",
   "metadata": {},
   "outputs": [
    {
     "name": "stdin",
     "output_type": "stream",
     "text": [
      "What is the CP of product 1005\n"
     ]
    },
    {
     "name": "stdout",
     "output_type": "stream",
     "text": [
      "Please pay an amount of RS.804.0\n"
     ]
    }
   ],
   "source": [
    "Product_price=int(input(\"What is the CP of product\"))\n",
    "if Product_price>1000:\n",
    "    Final_cost=0.8*Product_price\n",
    "else:\n",
    "    Final_cost=0.7*Product_price\n",
    "print(f\"Please pay an amount of RS.{Final_cost}\")"
   ]
  },
  {
   "cell_type": "code",
   "execution_count": null,
   "id": "c8ea13e9-d7c7-48ba-96a2-ad513c1c7999",
   "metadata": {},
   "outputs": [],
   "source": []
  }
 ],
 "metadata": {
  "kernelspec": {
   "display_name": "Python 3 (ipykernel)",
   "language": "python",
   "name": "python3"
  },
  "language_info": {
   "codemirror_mode": {
    "name": "ipython",
    "version": 3
   },
   "file_extension": ".py",
   "mimetype": "text/x-python",
   "name": "python",
   "nbconvert_exporter": "python",
   "pygments_lexer": "ipython3",
   "version": "3.10.8"
  }
 },
 "nbformat": 4,
 "nbformat_minor": 5
}
